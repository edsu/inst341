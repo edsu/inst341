{
 "cells": [
  {
   "cell_type": "markdown",
   "metadata": {},
   "source": [
    "# The File System"
   ]
  },
  {
   "cell_type": "markdown",
   "metadata": {},
   "source": [
    "As we learned in Chapter 2 of [The Theory and Craft of Digital Preservation](https://jhupbooks.press.jhu.edu/title/theory-and-craft-digital-preservation) the *file* and *file formats* are foundational concepts for digital curation, and for computing in general.\n",
    "\n",
    "> File formats enable most modern computing. A file format is a convention that established the rules of how information is structured and stored in a file. File extensions (.mp3, .jpg, .doc), in part, define the file and enable it to be interpreted. (p. 47)\n",
    "\n",
    "We will be taking a closer look at some of these formats in the coming weeks. But first we are going to review some of what you learned in Introduction to Programming about how to interact with files and [file systems](https://en.wikipedia.org/wiki/File_system). While there are many types of file systems with different properties many of them offer the same Application Programming Interface or [API](https://en.wikipedia.org/wiki/API) which allows you to interact with files using read and write operations.\n",
    "\n",
    "Digital curation practices often involve interacting with the file system in order to read, write and update files. Most computer operating systems (Windows, OS X, etc) provide access to the file system using applications like the File Explorer (Windows) and the Finder (OS X). Digital curation regularly requires *documenting* and performing *repeatable* interactions with files and the file system. Programming languages like Python are useful for automating digital curation tasks and workflows, and for documenting the curatorial behaviors. Being able to create and modify these programs is a useful digital curation skill.\n",
    "\n",
    "This notebook provides some examples of reading from and writing to the filesystem and then asks you to perform a similar task.\n",
    "\n",
    "## Paths\n",
    "\n",
    "Python's [pathlib](https://docs.python.org/3/library/pathlib.html) module provides an object-oriented way to interact with the filesystem. It is named *pathlib* because it is organized around the idea of *file paths* which are locations for files on the file system. Normally you see these using a notation something like:\n",
    "\n",
    "    /home/ed/documents/resume.pdf\n",
    "    \n",
    "or on Windows:\n",
    "\n",
    "    C:\\Users\\Ed\\Documents\\resume.pdf\n",
    "    \n",
    "The two different notations are expressing the same thing, a location for a file on the file system by starting at the *root* of the file system and then navigating down through *folders* (also known as *directories*) until there is a name for a *file*. This is known as an *absolute path* because it is anchored to the root of the filesystem.\n",
    "\n",
    "So for example we can crate a path for the computer's root file system:"
   ]
  },
  {
   "cell_type": "code",
   "execution_count": 8,
   "metadata": {},
   "outputs": [
    {
     "name": "stdout",
     "output_type": "stream",
     "text": [
      "/\n"
     ]
    }
   ],
   "source": [
    "import pathlib\n",
    "\n",
    "root = pathlib.Path('/')\n",
    "print(root)"
   ]
  },
  {
   "cell_type": "markdown",
   "metadata": {},
   "source": [
    "Now that we have a `Path` instance stored in the variable named `root` we can list the contents of this path location using its [iterdir](https://docs.python.org/3/library/pathlib.html#pathlib.Path.iterdir) method in a little loop:"
   ]
  },
  {
   "cell_type": "code",
   "execution_count": 9,
   "metadata": {},
   "outputs": [
    {
     "name": "stdout",
     "output_type": "stream",
     "text": [
      "/tmp\n",
      "/boot\n",
      "/bin\n",
      "/cdrom\n",
      "/snap\n",
      "/usr\n",
      "/sbin\n",
      "/proc\n",
      "/var\n",
      "/lib\n",
      "/opt\n",
      "/lib32\n",
      "/srv\n",
      "/lost+found\n",
      "/sys\n",
      "/lib64\n",
      "/dev\n",
      "/etc\n",
      "/media\n",
      "/swapfile\n",
      "/libx32\n",
      "/run\n",
      "/home\n",
      "/mnt\n",
      "/root\n"
     ]
    }
   ],
   "source": [
    "for p in root.iterdir():\n",
    "    print(p)"
   ]
  },
  {
   "cell_type": "markdown",
   "metadata": {},
   "source": [
    "This may look different when you run it on your computer, since it may have a different root directory.\n",
    "\n",
    "Paths can also be *relative*. Relative paths are not anchored to the root of the file system. Instead they refer to a location that is relative to program's *current working directory*. You can think of this as the home for your program, or where it was started from. Relative paths look something like this:\n",
    "\n",
    "    ed/resume.pdf"
   ]
  },
  {
   "cell_type": "markdown",
   "metadata": {},
   "source": [
    "Most programming languages let you determine the current working directory. Python's [os](https://docs.python.org/3/library/os.html) module has a function called [getcwd](https://docs.python.org/3/library/os.html?highlight=os#os.getcwd):"
   ]
  },
  {
   "cell_type": "code",
   "execution_count": 11,
   "metadata": {},
   "outputs": [
    {
     "data": {
      "text/plain": [
       "'/home/ed/Projects/inst341/modules/module-02'"
      ]
     },
     "execution_count": 11,
     "metadata": {},
     "output_type": "execute_result"
    }
   ],
   "source": [
    "import os\n",
    "\n",
    "os.getcwd()"
   ]
  },
  {
   "cell_type": "markdown",
   "metadata": {},
   "source": [
    "## Reading Files\n",
    "\n",
    "Digital curation is fundamentally concerned with *the care of data*, and data is almost always stored in files of some kind. When caring for data we often want to *read* the files and folders on the file system to determine the formats that the data is expressed in, its size, and file fixity. We'll be discussing some of these operations in future modules. For now we are going to focus on reading the files in a directory and figuring out how much data they contain as an example\n",
    "\n",
    "In order to make this more interesting we're going to work with a set of files from [Digital Corpora](https://digitalcorpora.org/corpora/files) which is a project to provide materials for digital forensics education. I've put a zip file of a few files on Google Drive for use to use which you can copy here and unzip. We will be talking about cloud services like Google Drive and container formats like ZIP in the coming weeks. So for now just run these notebook cells even if you don't understand them just yet."
   ]
  },
  {
   "cell_type": "code",
   "execution_count": 14,
   "metadata": {},
   "outputs": [
    {
     "name": "stdout",
     "output_type": "stream",
     "text": [
      "unzip:  cannot find or open inst341.zip, inst341.zip.zip or inst341.zip.ZIP.\r\n"
     ]
    }
   ],
   "source": [
    "! unzip inst341.zip"
   ]
  },
  {
   "cell_type": "markdown",
   "metadata": {},
   "source": [
    "Ok let's create a `Path` object for the directory we just created. We can use a relative path since the zip file unpacked into our current working directory:"
   ]
  },
  {
   "cell_type": "code",
   "execution_count": 17,
   "metadata": {},
   "outputs": [
    {
     "name": "stdout",
     "output_type": "stream",
     "text": [
      "inst341\n"
     ]
    }
   ],
   "source": [
    "data = pathlib.Path('inst341')\n",
    "print(data)"
   ]
  },
  {
   "cell_type": "markdown",
   "metadata": {},
   "source": [
    "We can list the files that were unpacked from the ZIP file:"
   ]
  },
  {
   "cell_type": "code",
   "execution_count": 19,
   "metadata": {},
   "outputs": [
    {
     "name": "stdout",
     "output_type": "stream",
     "text": [
      "inst341/761213.ps\n",
      "inst341/441236.ps\n",
      "inst341/763624.html\n",
      "inst341/951980.gz\n",
      "inst341/033333.pdf\n",
      "inst341/115389.jpg\n",
      "inst341/377087.txt\n",
      "inst341/306840.html\n",
      "inst341/368751.html\n",
      "inst341/362088.pdf\n",
      "inst341/215842.txt\n",
      "inst341/120637.ppt\n",
      "inst341/481368.csv\n",
      "inst341/512608.ppt\n",
      "inst341/710097.pdf\n",
      "inst341/116114.dbase3\n",
      "inst341/286538.pdf\n",
      "inst341/064568.pdf\n",
      "inst341/789265.ppt\n",
      "inst341/925740.doc\n",
      "inst341/447656.html\n",
      "inst341/278141.jpg\n",
      "inst341/356028.pdf\n",
      "inst341/098807.doc\n",
      "inst341/837467.jpg\n"
     ]
    }
   ],
   "source": [
    "for p in data.iterdir():\n",
    "    print(p)"
   ]
  },
  {
   "cell_type": "markdown",
   "metadata": {},
   "source": [
    "So it looks like a collection of different types of files (pdf, doc, jpg, etc). If we want we can try to read one of them in. Take the `inst341/377087.txt` as an example. We can create a `Path` object for it and then use the `read_text` method to read its contents into a variable that we can print out:"
   ]
  },
  {
   "cell_type": "code",
   "execution_count": 23,
   "metadata": {},
   "outputs": [
    {
     "name": "stdout",
     "output_type": "stream",
     "text": [
      "\n",
      "000\n",
      "FONT12 KNHC 100237\n",
      "PWSAT2\n",
      "TROPICAL DEPRESSION PALOMA WIND SPEED PROBABILITIES NUMBER  19      \n",
      "NWS TPC/NATIONAL HURRICANE CENTER MIAMI FL   AL172008               \n",
      "0300 UTC MON NOV 10 2008                                            \n",
      "                                                                    \n",
      "AT 0300Z THE CENTER OF TROPICAL DEPRESSION PALOMA WAS LOCATED NEAR  \n",
      "LATITUDE 22.0 NORTH...LONGITUDE 78.0 WEST WITH MAXIMUM SUSTAINED    \n",
      "WINDS NEAR 25 KTS...30 MPH...45 KM/HR.                              \n",
      "                                                                    \n",
      "Z INDICATES COORDINATED UNIVERSAL TIME (GREENWICH)                  \n",
      "   ATLANTIC STANDARD TIME (AST)...SUBTRACT 4 HOURS FROM Z TIME      \n",
      "   EASTERN  STANDARD TIME (EST)...SUBTRACT 5 HOURS FROM Z TIME      \n",
      "   CENTRAL  STANDARD TIME (CST)...SUBTRACT 6 HOURS FROM Z TIME      \n",
      "                                                                    \n",
      "                                                                    \n",
      "I.  MAXIMUM WIND SPEED (INTENSITY) PROBABILITY TABLE                \n",
      "                                                                    \n",
      "CHANCES THAT THE MAXIMUM SUSTAINED (1-MINUTE AVERAGE) WIND SPEED OF \n",
      "THE TROPICAL CYCLONE WILL BE WITHIN ANY OF THE FOLLOWING CATEGORIES \n",
      "AT EACH OFFICIAL FORECAST TIME DURING THE NEXT 5 DAYS.              \n",
      "PROBABILITIES ARE GIVEN IN PERCENT.  X INDICATES PROBABILITIES LESS \n",
      "THAN 1 PERCENT.                                                     \n",
      "                                                                    \n",
      "                                                                    \n",
      "      - - - MAXIMUM WIND SPEED (INTENSITY) PROBABILITIES - - -      \n",
      "                                                                    \n",
      "VALID TIME   12Z MON 00Z TUE 12Z TUE 00Z WED 00Z THU 00Z FRI 00Z SAT\n",
      "FORECAST HOUR   12      24      36      48      72      96     120  \n",
      "- - - - - - - - - - - - - - - - - - - - - - - - - - - - - - - - - -\n",
      "DISSIPATED      10      29      33      38      NA      NA      NA\n",
      "TROP DEPRESSION 75      56      48      39      NA      NA      NA\n",
      "TROPICAL STORM  15      15      18      22      NA      NA      NA\n",
      "HURRICANE        X       X       1       1      NA      NA      NA\n",
      "- - - - - - - - - - - - - - - - - - - - - - - - - - - - - - - - - -\n",
      "HUR CAT 1        X       X       1       1      NA      NA      NA\n",
      "HUR CAT 2        X       X       X       X      NA      NA      NA\n",
      "HUR CAT 3        X       X       X       X      NA      NA      NA\n",
      "HUR CAT 4        X       X       X       X      NA      NA      NA\n",
      "HUR CAT 5        X       X       X       X      NA      NA      NA\n",
      "- - - - - - - - - - - - - - - - - - - - - - - - - - - - - - - - - -\n",
      "FCST MAX WIND   25KT    20KT    20KT    20KT    NA      NA      NA  \n",
      "                                                                    \n",
      "                                                                    \n",
      "II. WIND SPEED PROBABILITY TABLE FOR SPECIFIC LOCATIONS             \n",
      "                                                                    \n",
      "CHANCES OF SUSTAINED (1-MINUTE AVERAGE) WIND SPEEDS OF AT LEAST     \n",
      "   ...34 KT (39 MPH... 63 KPH)...                                   \n",
      "   ...50 KT (58 MPH... 93 KPH)...                                   \n",
      "   ...64 KT (74 MPH...119 KPH)...                                   \n",
      "FOR LOCATIONS AND TIME PERIODS DURING THE NEXT 5 DAYS               \n",
      "                                                                    \n",
      "PROBABILITIES FOR LOCATIONS ARE GIVEN AS IP(CP) WHERE               \n",
      "    IP  IS THE PROBABILITY OF THE EVENT BEGINNING DURING            \n",
      "        AN INDIVIDUAL TIME PERIOD (INDIVIDUAL PROBABILITY)          \n",
      "   (CP) IS THE PROBABILITY OF THE EVENT OCCURRING BETWEEN           \n",
      "        00Z MON AND THE FORECAST HOUR (CUMULATIVE PROBABILITY)      \n",
      "                                                                    \n",
      "PROBABILITIES ARE GIVEN IN PERCENT                                  \n",
      "X INDICATES PROBABILITIES LESS THAN 1 PERCENT                       \n",
      "PROBABILITIES FOR 34 KT AND 50 KT ARE SHOWN AT A GIVEN LOCATION WHEN\n",
      "THE 5-DAY CUMULATIVE PROBABILITY IS AT LEAST 3 PERCENT.             \n",
      "PROBABILITIES FOR 64 KT ARE SHOWN WHEN THE 5-DAY CUMULATIVE         \n",
      "PROBABILITY IS AT LEAST 1 PERCENT.                                  \n",
      "                                                                    \n",
      "                                                                    \n",
      "  - - - - WIND SPEED PROBABILITIES FOR SELECTED  LOCATIONS - - - -  \n",
      "                                                                    \n",
      "               FROM    FROM    FROM    FROM    FROM    FROM    FROM \n",
      "  TIME       00Z MON 12Z MON 00Z TUE 12Z TUE 00Z WED 00Z THU 00Z FRI\n",
      "PERIODS         TO      TO      TO      TO      TO      TO      TO  \n",
      "             12Z MON 00Z TUE 12Z TUE 00Z WED 00Z THU 00Z FRI 00Z SAT\n",
      "                                                                    \n",
      "FORECAST HOUR    (12)   (24)    (36)    (48)    (72)    (96)   (120)\n",
      "- - - - - - - - - - - - - - - - - - - - - - - - - - - - - - - - - - \n",
      "LOCATION       KT                                                   \n",
      "                                                                    \n",
      "NEW PROVIDENCE 34  X   X( X)   2( 2)   2( 4)   X( 4)   X( 4)   X( 4)\n",
      " \n",
      "ANDROS         34  1   1( 2)   2( 4)   2( 6)   X( 6)   X( 6)   X( 6)\n",
      " \n",
      "GREAT EXUMA    34  X   1( 1)   1( 2)   1( 3)   X( 3)   X( 3)   X( 3)\n",
      " \n",
      "CIENFUEGOS     34  X   1( 1)   X( 1)   2( 3)   X( 3)   X( 3)   X( 3)\n",
      " \n",
      "CAMAGUEY       34  3   3( 6)   1( 7)   1( 8)   X( 8)   X( 8)   X( 8)\n",
      " \n",
      "$$                                                                  \n",
      "FORECASTER STEWART                                                  \n",
      "                                                                    \n",
      "                                                                    \n",
      "\n",
      "\n"
     ]
    }
   ],
   "source": [
    "p = pathlib.Path('inst341/377087.txt')\n",
    "contents = p.read_text()\n",
    "print(contents)"
   ]
  },
  {
   "cell_type": "markdown",
   "metadata": {},
   "source": [
    "This is a somewhat random assortment of files, so perhaps it isn't the best example. But this looks like this text file contains a weather report for a tropical storm Paloma in 2008?"
   ]
  },
  {
   "cell_type": "markdown",
   "metadata": {},
   "source": [
    "## File Sizes and Storage\n",
    "\n",
    "Perhaps a more practical task would be to determine how much storage space these files take up? Knowing how much storage different types of data take up is often very important for digital curation tasks because storage space is expensive over time. Some files can be compressed to save space. Some files may not be worth saving if they are available in compressed formats. Being able to programatically ask questions of the our data can be veyr helpful.\n",
    "\n",
    "A `Path` object has a [stat](https://docs.python.org/3/library/pathlib.html#pathlib.Path.stat) method which returns information about the file, such as the size. Here's the size in bytes of the weather report we just looked at:"
   ]
  },
  {
   "cell_type": "code",
   "execution_count": 25,
   "metadata": {},
   "outputs": [
    {
     "name": "stdout",
     "output_type": "stream",
     "text": [
      "5817\n"
     ]
    }
   ],
   "source": [
    "p = pathlib.Path('inst341/377087.txt')\n",
    "info = p.stat()\n",
    "print(info.st_size)"
   ]
  },
  {
   "cell_type": "markdown",
   "metadata": {},
   "source": [
    "Or we could print out the sizes for all the files in the directory:"
   ]
  },
  {
   "cell_type": "code",
   "execution_count": 29,
   "metadata": {},
   "outputs": [
    {
     "name": "stdout",
     "output_type": "stream",
     "text": [
      "inst341/761213.ps 11196\n",
      "inst341/441236.ps 57926\n",
      "inst341/763624.html 28650\n",
      "inst341/951980.gz 205652\n",
      "inst341/033333.pdf 223686\n",
      "inst341/115389.jpg 71167\n",
      "inst341/377087.txt 5817\n",
      "inst341/306840.html 34040\n",
      "inst341/368751.html 11267\n",
      "inst341/362088.pdf 3555072\n",
      "inst341/215842.txt 1244\n",
      "inst341/120637.ppt 59392\n",
      "inst341/481368.csv 36096\n",
      "inst341/512608.ppt 33792\n",
      "inst341/710097.pdf 42019\n",
      "inst341/116114.dbase3 11394\n",
      "inst341/286538.pdf 133799\n",
      "inst341/064568.pdf 641356\n",
      "inst341/789265.ppt 5257728\n",
      "inst341/925740.doc 34816\n",
      "inst341/447656.html 12258\n",
      "inst341/278141.jpg 39479\n",
      "inst341/356028.pdf 142229\n",
      "inst341/098807.doc 755200\n",
      "inst341/837467.jpg 6654\n"
     ]
    }
   ],
   "source": [
    "data = pathlib.Path('inst341')\n",
    "\n",
    "for p in data.iterdir():\n",
    "    info = p.stat()\n",
    "    print(p, info.st_size)"
   ]
  },
  {
   "cell_type": "markdown",
   "metadata": {},
   "source": [
    "We could also figure out the size in bytes of all of the files:"
   ]
  },
  {
   "cell_type": "code",
   "execution_count": 30,
   "metadata": {},
   "outputs": [
    {
     "name": "stdout",
     "output_type": "stream",
     "text": [
      "11411929\n"
     ]
    }
   ],
   "source": [
    "data = pathlib.Path('inst341')\n",
    "total_size = 0\n",
    "\n",
    "for p in data.iterdir():\n",
    "    info = p.stat()\n",
    "    total_size += info.st_size\n",
    "    \n",
    "print(total_size)"
   ]
  },
  {
   "cell_type": "markdown",
   "metadata": {},
   "source": [
    "Or to get a bit little bit more fancy we can use a Python [Counter](https://docs.python.org/3/library/collections.html?highlight=counter#collections.Counter) we could count up how much space the files take up by file extension:"
   ]
  },
  {
   "cell_type": "code",
   "execution_count": 33,
   "metadata": {},
   "outputs": [
    {
     "name": "stdout",
     "output_type": "stream",
     "text": [
      ".ppt 5350912\n",
      ".pdf 4738161\n",
      ".doc 790016\n",
      ".gz 205652\n",
      ".jpg 117300\n",
      ".html 86215\n",
      ".ps 69122\n",
      ".csv 36096\n",
      ".dbase3 11394\n",
      ".txt 7061\n"
     ]
    }
   ],
   "source": [
    "import collections\n",
    "\n",
    "sizes = collections.Counter()\n",
    "\n",
    "for p in data.iterdir():\n",
    "    info = p.stat()\n",
    "    size = info.st_size\n",
    "    \n",
    "    extension = p.suffix\n",
    "    sizes[extension] += size\n",
    "    \n",
    "for extension, size in sizes.most_common():\n",
    "    print(extension, size)"
   ]
  },
  {
   "cell_type": "markdown",
   "metadata": {},
   "source": [
    "It looks like the .ppt (Powerpoint) and .pdf (Portable Document Format) files take up the majority of the space."
   ]
  },
  {
   "cell_type": "markdown",
   "metadata": {},
   "source": [
    "## Exercise\n",
    "\n",
    "There is a file with your username.zip "
   ]
  },
  {
   "cell_type": "code",
   "execution_count": null,
   "metadata": {},
   "outputs": [],
   "source": []
  }
 ],
 "metadata": {
  "kernelspec": {
   "display_name": "Python 3",
   "language": "python",
   "name": "python3"
  },
  "language_info": {
   "codemirror_mode": {
    "name": "ipython",
    "version": 3
   },
   "file_extension": ".py",
   "mimetype": "text/x-python",
   "name": "python",
   "nbconvert_exporter": "python",
   "pygments_lexer": "ipython3",
   "version": "3.8.2"
  }
 },
 "nbformat": 4,
 "nbformat_minor": 4
}
