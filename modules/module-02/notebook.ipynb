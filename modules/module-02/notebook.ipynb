{
  "nbformat": 4,
  "nbformat_minor": 0,
  "metadata": {
    "kernelspec": {
      "display_name": "Python 3",
      "language": "python",
      "name": "python3"
    },
    "language_info": {
      "codemirror_mode": {
        "name": "ipython",
        "version": 3
      },
      "file_extension": ".py",
      "mimetype": "text/x-python",
      "name": "python",
      "nbconvert_exporter": "python",
      "pygments_lexer": "ipython3",
      "version": "3.8.2"
    },
    "colab": {
      "name": "Module 2",
      "provenance": [],
      "collapsed_sections": []
    }
  },
  "cells": [
    {
      "cell_type": "markdown",
      "metadata": {
        "id": "YPtIynuAL2aG",
        "colab_type": "text"
      },
      "source": [
        "# The File System"
      ]
    },
    {
      "cell_type": "markdown",
      "metadata": {
        "id": "XHKvNArTL2aI",
        "colab_type": "text"
      },
      "source": [
        "As we learned in Chapter 2 of [The Theory and Craft of Digital Preservation](https://jhupbooks.press.jhu.edu/title/theory-and-craft-digital-preservation) the *file* and *file formats* are foundational concepts for digital curation, and for computing in general.\n",
        "\n",
        "> File formats enable most modern computing. A file format is a convention that established the rules of how information is structured and stored in a file. File extensions (.mp3, .jpg, .doc), in part, define the file and enable it to be interpreted. (p. 47)\n",
        "\n",
        "We will be taking a closer look at some of these formats in the coming weeks. But first we are going to review some of what you learned in Introduction to Programming (INST126) about how to interact with files and [file systems](https://en.wikipedia.org/wiki/File_system). While there are many types of file systems with different properties many of them offer the same Application Programming Interface or [API](https://en.wikipedia.org/wiki/API) which allows you to interact with files using read and write operations.\n",
        "\n",
        "Digital curation practices often require us to interact with the file system in order to read, write and update files. Most computer operating systems (Windows, OS X, etc) provide access to the file system using applications like the File Explorer (Windows) and the Finder (OS X). Digital curation regularly requires *documenting* and performing *repeatable* interactions with files and the file system. Programming languages like Python are useful for automating digital curation tasks and workflows, and for documenting the curatorial behaviors. Being able to create and modify these programs is a useful digital curation skill that we will be exploring this semester.\n",
        "\n",
        "This Jupyter notebook provides some examples of reading from the filesystem and then asks you to perform a similar task.\n",
        "\n",
        "## Paths\n",
        "\n",
        "Python's [pathlib](https://docs.python.org/3/library/pathlib.html) module provides an object-oriented way to interact with the filesystem. It is named *pathlib* because it is organized around the idea of *file paths* which are locations for files on the file system. Normally you see these using a notation something like:\n",
        "\n",
        "\n",
        "    /home/ed/documents/resume.pdf\n",
        "    \n",
        "or on Windows:\n",
        "\n",
        "    C:\\Users\\Ed\\Documents\\resume.pdf\n",
        "    \n",
        "The two different notations are expressing the same information, a location for a file on the file system by starting at the *root* of the file system and then navigating down through *folders* (also known as *directories*) until there is a name for a *file*. This is known as an *absolute path* because it is anchored to the root of the filesystem.\n",
        "\n",
        "So for example we can crate a path for this computer's root file system. Since the Jupyter notebook is running in a virtual machine in the Google Cloud, you will be inspecting the file system of the computer running in the cloud, and not your own computer. If you were running the Jupyter notebook locally on your computer then you would be examining the file system on your computer."
      ]
    },
    {
      "cell_type": "code",
      "metadata": {
        "id": "mdAEDaWmL2aL",
        "colab_type": "code",
        "colab": {
          "base_uri": "https://localhost:8080/",
          "height": 34
        },
        "outputId": "acad7a9c-2fda-44a7-fd76-ef6d6f7e54cb"
      },
      "source": [
        "import pathlib\n",
        "\n",
        "root = pathlib.Path('/')\n",
        "print(root)"
      ],
      "execution_count": null,
      "outputs": [
        {
          "output_type": "stream",
          "text": [
            "/\n"
          ],
          "name": "stdout"
        }
      ]
    },
    {
      "cell_type": "markdown",
      "metadata": {
        "id": "bGKk-7itL2aX",
        "colab_type": "text"
      },
      "source": [
        "Now that we have a `Path` instance stored in the variable named `root` we can list the contents of this path location using its [iterdir](https://docs.python.org/3/library/pathlib.html#pathlib.Path.iterdir) method in a little loop:"
      ]
    },
    {
      "cell_type": "code",
      "metadata": {
        "id": "vyGZzfRAL2aa",
        "colab_type": "code",
        "colab": {
          "base_uri": "https://localhost:8080/",
          "height": 469
        },
        "outputId": "85db6192-c07f-4e0e-81de-5ca119a5a00c"
      },
      "source": [
        "for p in root.iterdir():\n",
        "    print(p)"
      ],
      "execution_count": null,
      "outputs": [
        {
          "output_type": "stream",
          "text": [
            "/var\n",
            "/boot\n",
            "/opt\n",
            "/root\n",
            "/run\n",
            "/etc\n",
            "/sbin\n",
            "/dev\n",
            "/tmp\n",
            "/media\n",
            "/home\n",
            "/lib\n",
            "/usr\n",
            "/mnt\n",
            "/srv\n",
            "/proc\n",
            "/bin\n",
            "/sys\n",
            "/lib64\n",
            "/.dockerenv\n",
            "/tools\n",
            "/datalab\n",
            "/swift\n",
            "/tensorflow-1.15.2\n",
            "/content\n",
            "/lib32\n"
          ],
          "name": "stdout"
        }
      ]
    },
    {
      "cell_type": "markdown",
      "metadata": {
        "id": "wOVakiRRL2ai",
        "colab_type": "text"
      },
      "source": [
        "This may look different when you run it on your computer, since it may have a different root directory. In this case we see what is in the root directory of the Linux operating system that Google Cloud gave us for our Colab notebook.\n",
        "\n",
        "Paths can also be *relative*. Relative paths are not anchored to the root of the file system. Instead they refer to a location that is relative to program's *current working directory*. You can think of this as the home for your program, or where it was started from. Relative paths look something like this:\n",
        "\n",
        "    ed/resume.pdf"
      ]
    },
    {
      "cell_type": "markdown",
      "metadata": {
        "id": "ITpWuZX4L2aj",
        "colab_type": "text"
      },
      "source": [
        "Most programming languages let you determine the current working directory. Python's [os](https://docs.python.org/3/library/os.html) module has a function called [getcwd](https://docs.python.org/3/library/os.html?highlight=os#os.getcwd):"
      ]
    },
    {
      "cell_type": "code",
      "metadata": {
        "id": "dZN-SIgeL2ak",
        "colab_type": "code",
        "colab": {
          "base_uri": "https://localhost:8080/",
          "height": 35
        },
        "outputId": "4b93b3e7-b0d8-4924-bdb4-58b4c235b81a"
      },
      "source": [
        "import os\n",
        "\n",
        "os.getcwd()"
      ],
      "execution_count": null,
      "outputs": [
        {
          "output_type": "execute_result",
          "data": {
            "application/vnd.google.colaboratory.intrinsic+json": {
              "type": "string"
            },
            "text/plain": [
              "'/content'"
            ]
          },
          "metadata": {
            "tags": []
          },
          "execution_count": 3
        }
      ]
    },
    {
      "cell_type": "markdown",
      "metadata": {
        "id": "kAprBantL2aq",
        "colab_type": "text"
      },
      "source": [
        "## Reading Files\n",
        "\n",
        "Digital curation is fundamentally concerned with *the care of data*, and data is almost always stored in files of some kind. When caring for data we often want to *read* the files and folders on the file system to determine the formats that the data is expressed in, its size, and file fixity. We'll be discussing some of these operations in future modules. For now we are going to focus on reading the files in a directory and figuring out how much data they contain as an example\n",
        "\n",
        "In order to make this a bit more interesting we're going to work with a set of files from [Digital Corpora](https://digitalcorpora.org/corpora/files) which is a project that provides materials for digital forensics education. Ideally we would share this data in Google Drive since it integrates nicely with Jupyter notebooks in Colab. But I haven't heard from all students yet about their preferred Google Account email address to add them. So until then I've create a small utility for downloading the data into our notebooks."
      ]
    },
    {
      "cell_type": "code",
      "metadata": {
        "id": "O3COrethL2ar",
        "colab_type": "code",
        "colab": {
          "base_uri": "https://localhost:8080/",
          "height": 34
        },
        "outputId": "a2d76ff9-5998-4ad1-de0b-ea0a8f3b55f1"
      },
      "source": [
        "! pip install --upgrade -q git+https://github.com/edsu/inst341data.git"
      ],
      "execution_count": null,
      "outputs": [
        {
          "output_type": "stream",
          "text": [
            "  Building wheel for inst341data (setup.py) ... \u001b[?25l\u001b[?25hdone\n"
          ],
          "name": "stdout"
        }
      ]
    },
    {
      "cell_type": "code",
      "metadata": {
        "id": "K1CHjaeNTROr",
        "colab_type": "code",
        "colab": {
          "base_uri": "https://localhost:8080/",
          "height": 34
        },
        "outputId": "1c295004-2aa0-4e30-f19f-b97391d2b57e"
      },
      "source": [
        "from inst341data import get_module_2\n",
        "\n",
        "get_module_2(\"inst341\")"
      ],
      "execution_count": null,
      "outputs": [
        {
          "output_type": "stream",
          "text": [
            "Downloaded inst341\n"
          ],
          "name": "stdout"
        }
      ]
    },
    {
      "cell_type": "markdown",
      "metadata": {
        "id": "ACJHdcKCL2aw",
        "colab_type": "text"
      },
      "source": [
        "Now we have a directory called `inst341` which we can interact with. For example, we can create a `Path` object for the directory we just created. We can use a relative path since the zip file unpacked into our current working directory:"
      ]
    },
    {
      "cell_type": "code",
      "metadata": {
        "id": "1ZDXSHNHL2ay",
        "colab_type": "code",
        "colab": {
          "base_uri": "https://localhost:8080/",
          "height": 34
        },
        "outputId": "0f0dc1d5-f9bb-45bf-f1b8-9ef730aaf00d"
      },
      "source": [
        "data = pathlib.Path('inst341')\n",
        "print(data)"
      ],
      "execution_count": null,
      "outputs": [
        {
          "output_type": "stream",
          "text": [
            "inst341\n"
          ],
          "name": "stdout"
        }
      ]
    },
    {
      "cell_type": "markdown",
      "metadata": {
        "id": "2rWm13MtL2a4",
        "colab_type": "text"
      },
      "source": [
        "We can list the files that were unpacked from the ZIP file:"
      ]
    },
    {
      "cell_type": "code",
      "metadata": {
        "id": "zIAQ9lKYL2a5",
        "colab_type": "code",
        "colab": {
          "base_uri": "https://localhost:8080/",
          "height": 451
        },
        "outputId": "8f675df8-1dee-4cf0-eaf7-b82e1a380c57"
      },
      "source": [
        "for p in data.iterdir():\n",
        "    print(p)"
      ],
      "execution_count": null,
      "outputs": [
        {
          "output_type": "stream",
          "text": [
            "inst341/710097.pdf\n",
            "inst341/481368.csv\n",
            "inst341/441236.ps\n",
            "inst341/120637.ppt\n",
            "inst341/215842.txt\n",
            "inst341/789265.ppt\n",
            "inst341/512608.ppt\n",
            "inst341/761213.ps\n",
            "inst341/278141.jpg\n",
            "inst341/447656.html\n",
            "inst341/763624.html\n",
            "inst341/286538.pdf\n",
            "inst341/377087.txt\n",
            "inst341/925740.doc\n",
            "inst341/098807.doc\n",
            "inst341/306840.html\n",
            "inst341/033333.pdf\n",
            "inst341/368751.html\n",
            "inst341/115389.jpg\n",
            "inst341/064568.pdf\n",
            "inst341/116114.dbase3\n",
            "inst341/362088.pdf\n",
            "inst341/837467.jpg\n",
            "inst341/951980.gz\n",
            "inst341/356028.pdf\n"
          ],
          "name": "stdout"
        }
      ]
    },
    {
      "cell_type": "markdown",
      "metadata": {
        "id": "XBg5apZPL2a9",
        "colab_type": "text"
      },
      "source": [
        "The directory looks like a collection of different types of files (pdf, doc, jpg, etc). If we want we can try to read one of them and print it out. Take the `inst341/377087.txt` as an example. We can create a `Path` object for it and then use the `read_text` method to read its contents into a variable that we can then print out:"
      ]
    },
    {
      "cell_type": "code",
      "metadata": {
        "id": "KVhlR-hQL2a-",
        "colab_type": "code",
        "colab": {
          "base_uri": "https://localhost:8080/",
          "height": 1000
        },
        "outputId": "de511940-1d27-4a84-84c1-dea87e9379bd"
      },
      "source": [
        "p = pathlib.Path('inst341/377087.txt')\n",
        "contents = p.read_text()\n",
        "print(contents)"
      ],
      "execution_count": null,
      "outputs": [
        {
          "output_type": "stream",
          "text": [
            "\n",
            "000\n",
            "FONT12 KNHC 100237\n",
            "PWSAT2\n",
            "TROPICAL DEPRESSION PALOMA WIND SPEED PROBABILITIES NUMBER  19      \n",
            "NWS TPC/NATIONAL HURRICANE CENTER MIAMI FL   AL172008               \n",
            "0300 UTC MON NOV 10 2008                                            \n",
            "                                                                    \n",
            "AT 0300Z THE CENTER OF TROPICAL DEPRESSION PALOMA WAS LOCATED NEAR  \n",
            "LATITUDE 22.0 NORTH...LONGITUDE 78.0 WEST WITH MAXIMUM SUSTAINED    \n",
            "WINDS NEAR 25 KTS...30 MPH...45 KM/HR.                              \n",
            "                                                                    \n",
            "Z INDICATES COORDINATED UNIVERSAL TIME (GREENWICH)                  \n",
            "   ATLANTIC STANDARD TIME (AST)...SUBTRACT 4 HOURS FROM Z TIME      \n",
            "   EASTERN  STANDARD TIME (EST)...SUBTRACT 5 HOURS FROM Z TIME      \n",
            "   CENTRAL  STANDARD TIME (CST)...SUBTRACT 6 HOURS FROM Z TIME      \n",
            "                                                                    \n",
            "                                                                    \n",
            "I.  MAXIMUM WIND SPEED (INTENSITY) PROBABILITY TABLE                \n",
            "                                                                    \n",
            "CHANCES THAT THE MAXIMUM SUSTAINED (1-MINUTE AVERAGE) WIND SPEED OF \n",
            "THE TROPICAL CYCLONE WILL BE WITHIN ANY OF THE FOLLOWING CATEGORIES \n",
            "AT EACH OFFICIAL FORECAST TIME DURING THE NEXT 5 DAYS.              \n",
            "PROBABILITIES ARE GIVEN IN PERCENT.  X INDICATES PROBABILITIES LESS \n",
            "THAN 1 PERCENT.                                                     \n",
            "                                                                    \n",
            "                                                                    \n",
            "      - - - MAXIMUM WIND SPEED (INTENSITY) PROBABILITIES - - -      \n",
            "                                                                    \n",
            "VALID TIME   12Z MON 00Z TUE 12Z TUE 00Z WED 00Z THU 00Z FRI 00Z SAT\n",
            "FORECAST HOUR   12      24      36      48      72      96     120  \n",
            "- - - - - - - - - - - - - - - - - - - - - - - - - - - - - - - - - -\n",
            "DISSIPATED      10      29      33      38      NA      NA      NA\n",
            "TROP DEPRESSION 75      56      48      39      NA      NA      NA\n",
            "TROPICAL STORM  15      15      18      22      NA      NA      NA\n",
            "HURRICANE        X       X       1       1      NA      NA      NA\n",
            "- - - - - - - - - - - - - - - - - - - - - - - - - - - - - - - - - -\n",
            "HUR CAT 1        X       X       1       1      NA      NA      NA\n",
            "HUR CAT 2        X       X       X       X      NA      NA      NA\n",
            "HUR CAT 3        X       X       X       X      NA      NA      NA\n",
            "HUR CAT 4        X       X       X       X      NA      NA      NA\n",
            "HUR CAT 5        X       X       X       X      NA      NA      NA\n",
            "- - - - - - - - - - - - - - - - - - - - - - - - - - - - - - - - - -\n",
            "FCST MAX WIND   25KT    20KT    20KT    20KT    NA      NA      NA  \n",
            "                                                                    \n",
            "                                                                    \n",
            "II. WIND SPEED PROBABILITY TABLE FOR SPECIFIC LOCATIONS             \n",
            "                                                                    \n",
            "CHANCES OF SUSTAINED (1-MINUTE AVERAGE) WIND SPEEDS OF AT LEAST     \n",
            "   ...34 KT (39 MPH... 63 KPH)...                                   \n",
            "   ...50 KT (58 MPH... 93 KPH)...                                   \n",
            "   ...64 KT (74 MPH...119 KPH)...                                   \n",
            "FOR LOCATIONS AND TIME PERIODS DURING THE NEXT 5 DAYS               \n",
            "                                                                    \n",
            "PROBABILITIES FOR LOCATIONS ARE GIVEN AS IP(CP) WHERE               \n",
            "    IP  IS THE PROBABILITY OF THE EVENT BEGINNING DURING            \n",
            "        AN INDIVIDUAL TIME PERIOD (INDIVIDUAL PROBABILITY)          \n",
            "   (CP) IS THE PROBABILITY OF THE EVENT OCCURRING BETWEEN           \n",
            "        00Z MON AND THE FORECAST HOUR (CUMULATIVE PROBABILITY)      \n",
            "                                                                    \n",
            "PROBABILITIES ARE GIVEN IN PERCENT                                  \n",
            "X INDICATES PROBABILITIES LESS THAN 1 PERCENT                       \n",
            "PROBABILITIES FOR 34 KT AND 50 KT ARE SHOWN AT A GIVEN LOCATION WHEN\n",
            "THE 5-DAY CUMULATIVE PROBABILITY IS AT LEAST 3 PERCENT.             \n",
            "PROBABILITIES FOR 64 KT ARE SHOWN WHEN THE 5-DAY CUMULATIVE         \n",
            "PROBABILITY IS AT LEAST 1 PERCENT.                                  \n",
            "                                                                    \n",
            "                                                                    \n",
            "  - - - - WIND SPEED PROBABILITIES FOR SELECTED  LOCATIONS - - - -  \n",
            "                                                                    \n",
            "               FROM    FROM    FROM    FROM    FROM    FROM    FROM \n",
            "  TIME       00Z MON 12Z MON 00Z TUE 12Z TUE 00Z WED 00Z THU 00Z FRI\n",
            "PERIODS         TO      TO      TO      TO      TO      TO      TO  \n",
            "             12Z MON 00Z TUE 12Z TUE 00Z WED 00Z THU 00Z FRI 00Z SAT\n",
            "                                                                    \n",
            "FORECAST HOUR    (12)   (24)    (36)    (48)    (72)    (96)   (120)\n",
            "- - - - - - - - - - - - - - - - - - - - - - - - - - - - - - - - - - \n",
            "LOCATION       KT                                                   \n",
            "                                                                    \n",
            "NEW PROVIDENCE 34  X   X( X)   2( 2)   2( 4)   X( 4)   X( 4)   X( 4)\n",
            " \n",
            "ANDROS         34  1   1( 2)   2( 4)   2( 6)   X( 6)   X( 6)   X( 6)\n",
            " \n",
            "GREAT EXUMA    34  X   1( 1)   1( 2)   1( 3)   X( 3)   X( 3)   X( 3)\n",
            " \n",
            "CIENFUEGOS     34  X   1( 1)   X( 1)   2( 3)   X( 3)   X( 3)   X( 3)\n",
            " \n",
            "CAMAGUEY       34  3   3( 6)   1( 7)   1( 8)   X( 8)   X( 8)   X( 8)\n",
            " \n",
            "$$                                                                  \n",
            "FORECASTER STEWART                                                  \n",
            "                                                                    \n",
            "                                                                    \n",
            "\n",
            "\n"
          ],
          "name": "stdout"
        }
      ]
    },
    {
      "cell_type": "markdown",
      "metadata": {
        "id": "Lcf2R5gAL2bD",
        "colab_type": "text"
      },
      "source": [
        "This is a somewhat random assortment of files, so perhaps it isn't the best example. But this looks like this text file contains a weather report for a tropical storm Paloma in 2008?"
      ]
    },
    {
      "cell_type": "markdown",
      "metadata": {
        "id": "s1mldXAvL2bD",
        "colab_type": "text"
      },
      "source": [
        "## File Sizes and Storage\n",
        "\n",
        "Knowing how much storage data takes up is very important for digital curation tasks because storage space is often limited and can be expensive to maintain over time. Some files can be compressed to save space. Some files may not be worth saving if they are already available in compressed formats. Being able to programatically determinte how much space files use is therefore very useful.\n",
        "\n",
        "A `Path` object has a [stat](https://docs.python.org/3/library/pathlib.html#pathlib.Path.stat) method which returns information about the file, such as the size. For example here is the size in [bytes](https://en.wikipedia.org/wiki/Byte) of the weather report we just looked at:"
      ]
    },
    {
      "cell_type": "code",
      "metadata": {
        "id": "zR6Gqyc6L2bE",
        "colab_type": "code",
        "colab": {
          "base_uri": "https://localhost:8080/",
          "height": 34
        },
        "outputId": "5a8545b4-84c1-4c59-bdf5-9b54396d7507"
      },
      "source": [
        "p = pathlib.Path('inst341/377087.txt')\n",
        "info = p.stat()\n",
        "print(info.st_size)"
      ],
      "execution_count": null,
      "outputs": [
        {
          "output_type": "stream",
          "text": [
            "5817\n"
          ],
          "name": "stdout"
        }
      ]
    },
    {
      "cell_type": "markdown",
      "metadata": {
        "id": "dY2G_iF9L2bJ",
        "colab_type": "text"
      },
      "source": [
        "By using a loop again with we can print out the sizes for all the files in the directory:"
      ]
    },
    {
      "cell_type": "code",
      "metadata": {
        "id": "odDVe3_XL2bK",
        "colab_type": "code",
        "colab": {
          "base_uri": "https://localhost:8080/",
          "height": 451
        },
        "outputId": "07168918-86c7-4c38-b795-700c60eacbb1"
      },
      "source": [
        "data = pathlib.Path('inst341')\n",
        "\n",
        "for p in data.iterdir():\n",
        "    info = p.stat()\n",
        "    print(p, info.st_size)"
      ],
      "execution_count": null,
      "outputs": [
        {
          "output_type": "stream",
          "text": [
            "inst341/710097.pdf 42019\n",
            "inst341/481368.csv 36096\n",
            "inst341/441236.ps 57926\n",
            "inst341/120637.ppt 59392\n",
            "inst341/215842.txt 1244\n",
            "inst341/789265.ppt 5257728\n",
            "inst341/512608.ppt 33792\n",
            "inst341/761213.ps 11196\n",
            "inst341/278141.jpg 39479\n",
            "inst341/447656.html 12258\n",
            "inst341/763624.html 28650\n",
            "inst341/286538.pdf 133799\n",
            "inst341/377087.txt 5817\n",
            "inst341/925740.doc 34816\n",
            "inst341/098807.doc 755200\n",
            "inst341/306840.html 34040\n",
            "inst341/033333.pdf 223686\n",
            "inst341/368751.html 11267\n",
            "inst341/115389.jpg 71167\n",
            "inst341/064568.pdf 641356\n",
            "inst341/116114.dbase3 11394\n",
            "inst341/362088.pdf 3555072\n",
            "inst341/837467.jpg 6654\n",
            "inst341/951980.gz 205652\n",
            "inst341/356028.pdf 142229\n"
          ],
          "name": "stdout"
        }
      ]
    },
    {
      "cell_type": "markdown",
      "metadata": {
        "id": "6YXwZCnfL2bP",
        "colab_type": "text"
      },
      "source": [
        "We can also figure out the total size in bytes of all of the files:"
      ]
    },
    {
      "cell_type": "code",
      "metadata": {
        "id": "d9agrINBL2bP",
        "colab_type": "code",
        "colab": {
          "base_uri": "https://localhost:8080/",
          "height": 34
        },
        "outputId": "114d7fc1-d324-43f3-8909-93bcc4dfeb69"
      },
      "source": [
        "data = pathlib.Path('inst341')\n",
        "total_size = 0\n",
        "\n",
        "for p in data.iterdir():\n",
        "    info = p.stat()\n",
        "    total_size += info.st_size\n",
        "    \n",
        "print(total_size)"
      ],
      "execution_count": null,
      "outputs": [
        {
          "output_type": "stream",
          "text": [
            "11411929\n"
          ],
          "name": "stdout"
        }
      ]
    },
    {
      "cell_type": "markdown",
      "metadata": {
        "id": "g1ptH96FL2bV",
        "colab_type": "text"
      },
      "source": [
        "Or to get a bit little bit more fancy we can use a Python [Counter](https://docs.python.org/3/library/collections.html?highlight=counter#collections.Counter) we could count up how much space the files take up by file extension:"
      ]
    },
    {
      "cell_type": "code",
      "metadata": {
        "id": "BoBdyVjFL2bW",
        "colab_type": "code",
        "colab": {
          "base_uri": "https://localhost:8080/",
          "height": 191
        },
        "outputId": "c1e19b6f-f849-4059-a27d-74a09693eb1b"
      },
      "source": [
        "import collections\n",
        "\n",
        "sizes = collections.Counter()\n",
        "\n",
        "for p in data.iterdir():\n",
        "    info = p.stat()\n",
        "    size = info.st_size\n",
        "    \n",
        "    extension = p.suffix\n",
        "    sizes[extension] += size\n",
        "    \n",
        "for extension, size in sizes.most_common():\n",
        "    print(extension, size)"
      ],
      "execution_count": null,
      "outputs": [
        {
          "output_type": "stream",
          "text": [
            ".ppt 5350912\n",
            ".pdf 4738161\n",
            ".doc 790016\n",
            ".gz 205652\n",
            ".jpg 117300\n",
            ".html 86215\n",
            ".ps 69122\n",
            ".csv 36096\n",
            ".dbase3 11394\n",
            ".txt 7061\n"
          ],
          "name": "stdout"
        }
      ]
    },
    {
      "cell_type": "markdown",
      "metadata": {
        "id": "qHShUgVFL2ba",
        "colab_type": "text"
      },
      "source": [
        "It looks like the .ppt (Powerpoint) and .pdf (Portable Document Format) files take up the majority of the space."
      ]
    },
    {
      "cell_type": "markdown",
      "metadata": {
        "id": "zSvpqNJ-L2ba",
        "colab_type": "text"
      },
      "source": [
        "## Exercise\n",
        "\n",
        "I have created a special zip file for you to download and analyze. Each file is uniquely named for you. You will need to replace **USERNAME** in the command below with your UMD username. Your UMD username will be the the portion of your UMD email address before the **@** sign. So for example if your email address is:\n",
        "\n",
        "    edsu@umd.edu\n",
        "\n",
        "Your username would be **edsu** and you would update the command like so:\n",
        "\n",
        "```python\n",
        "get_module_2('edsu')\n",
        "```"
      ]
    },
    {
      "cell_type": "code",
      "metadata": {
        "id": "XJr6luBvWAC_",
        "colab_type": "code",
        "colab": {}
      },
      "source": [
        "get_module_2('USERNAME')"
      ],
      "execution_count": null,
      "outputs": []
    },
    {
      "cell_type": "markdown",
      "metadata": {
        "id": "9TzKPM_uWeJs",
        "colab_type": "text"
      },
      "source": [
        "### 1. Directory Contents\n",
        "\n",
        "Create a `Path` object for your directory and use a loop to print out the files that are in the directory.\n",
        "\n"
      ]
    },
    {
      "cell_type": "code",
      "metadata": {
        "id": "IoEPXJdfJJVp",
        "colab_type": "code",
        "colab": {}
      },
      "source": [
        ""
      ],
      "execution_count": null,
      "outputs": []
    },
    {
      "cell_type": "markdown",
      "metadata": {
        "id": "h90kjrA-JR6c",
        "colab_type": "text"
      },
      "source": [
        "### 2. Total Size\n",
        "\n",
        "Use a loop to calculate and print out the total size in bytes of your directory."
      ]
    },
    {
      "cell_type": "code",
      "metadata": {
        "id": "Mv7RiRmSJfpU",
        "colab_type": "code",
        "colab": {}
      },
      "source": [
        ""
      ],
      "execution_count": null,
      "outputs": []
    },
    {
      "cell_type": "markdown",
      "metadata": {
        "id": "dBc9m--gJgWK",
        "colab_type": "text"
      },
      "source": [
        "### 3. Largest File\n",
        "\n",
        "Use Python to determine the largest file in your directory. One way to do this would be to use a loop like above and a variable to keep track of the largest file that you've seen."
      ]
    },
    {
      "cell_type": "code",
      "metadata": {
        "id": "TTzrt-QMKqpA",
        "colab_type": "code",
        "colab": {}
      },
      "source": [
        ""
      ],
      "execution_count": null,
      "outputs": []
    }
  ]
}