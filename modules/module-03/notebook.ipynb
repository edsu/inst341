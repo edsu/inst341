{
 "cells": [
  {
   "cell_type": "markdown",
   "metadata": {},
   "source": [
    "# File Formats\n",
    "\n",
    "Files and file formats are a very important idea for digital curation because they are the primary abstraction we use to talk about data. If you open up your File Explorer on your computer you can see your operating system and applications are all made up of files. Our so called \"smart\" phones are often dumbed down to prevent us from seeing the files that are there. Even on the web where data feels like it is \"in the cloud\" there are files on someone else's computer that we call a server or perhaps thousands of servers that make files available over the network as bit streams. Bit streams is another name for a file, a discrete sequence of binary data.\n",
    "\n",
    "But as we read about in Chapter 3 of The Theory and Craft of Digital Preservation, these files, or bit streams, have something in common: they all have a particular *format*. These formats define the shape of the data, and often have *standards* associated with how the files of a particular format should be put together. Having standard file formats allows us to reliably *render* the files in particular ways. For example the MP4 file format can be rendered by a video player like [VLC](https://www.videolan.org/vlc/) and also your web browser. Agreement about how an MP4 should be structured is what allows multiple applications to open an MP4 file, play it, pause it, adjust its volume, etc.\n",
    "\n",
    "In this notebook we will explore two ways of discovering what format a file is in, and how to determine what application can be used to render it.\n",
    "\n",
    "## File Extensions\n",
    "\n",
    "As we saw in the Module 2 Notebook assignment many files have a file extension, which gives us a hint about what format the data is in. This is typically a short sequence of characters following a period in the filename. File extensions are a naming convention that may or may not correctly identify the format that the file is in. For example the filename:\n",
    "\n",
    "    paper.pdf\n",
    "    \n",
    "has the file extension `pdf` which is an acronym for the [Portable Document Format](https://en.wikipedia.org/wiki/PDF) that was created by Adobe Corporation in 1993 and was standardized as [ISO 32000](https://www.iso.org/standard/51502.html) in 2008. But if you wanted you could rename a `file.mp4` to a `file.pdf`. That woudln't change the format of the file itself, just its name.\n",
    "\n",
    "Lets take another look at some of the file extensions. We will start by downloading the files we used in Module 2. that are part of the [Digital Corpora](https://digitalcorpora.org/) dataset."
   ]
  },
  {
   "cell_type": "code",
   "execution_count": 71,
   "metadata": {},
   "outputs": [],
   "source": [
    "! pip3 install --quiet git+https://github.com/edsu/inst341data"
   ]
  },
  {
   "cell_type": "code",
   "execution_count": 41,
   "metadata": {},
   "outputs": [
    {
     "name": "stdout",
     "output_type": "stream",
     "text": [
      "Downloaded inst341\n"
     ]
    }
   ],
   "source": [
    "import inst341data\n",
    "inst341data.get_module_2('inst341')"
   ]
  },
  {
   "cell_type": "markdown",
   "metadata": {},
   "source": [
    "This downloaded our test data and put it into a directory named `inst341` in our Jupyter Notebook's working directory. Remember we can use Python's [pathlib] module to interact with the file system and list the contents of this directory and print out the file extensions."
   ]
  },
  {
   "cell_type": "code",
   "execution_count": 9,
   "metadata": {},
   "outputs": [
    {
     "name": "stdout",
     "output_type": "stream",
     "text": [
      "inst341/710097.pdf .pdf\n",
      "inst341/481368.csv .csv\n",
      "inst341/368751.html .html\n",
      "inst341/951980.gz .gz\n",
      "inst341/789265.ppt .ppt\n",
      "inst341/512608.ppt .ppt\n",
      "inst341/377087.txt .txt\n",
      "inst341/447656.html .html\n",
      "inst341/362088.pdf .pdf\n",
      "inst341/356028.pdf .pdf\n",
      "inst341/278141.jpg .jpg\n",
      "inst341/033333.pdf .pdf\n",
      "inst341/098807.doc .doc\n",
      "inst341/115389.jpg .jpg\n",
      "inst341/441236.ps .ps\n",
      "inst341/286538.pdf .pdf\n",
      "inst341/120637.ppt .ppt\n",
      "inst341/064568.pdf .pdf\n",
      "inst341/306840.html .html\n",
      "inst341/925740.doc .doc\n",
      "inst341/761213.ps .ps\n",
      "inst341/763624.html .html\n",
      "inst341/116114.dbase3 .dbase3\n",
      "inst341/215842.txt .txt\n",
      "inst341/837467.jpg .jpg\n"
     ]
    }
   ],
   "source": [
    "import pathlib\n",
    "\n",
    "data = pathlib.Path('inst341')\n",
    "\n",
    "for path in data.iterdir():\n",
    "    print(path, path.suffix)"
   ]
  },
  {
   "cell_type": "markdown",
   "metadata": {},
   "source": [
    "We can use a [Counter](https://docs.python.org/3/library/collections.html#collections.Counter) from the [collections](https://docs.python.org/3/library/collections.html) module to count up how many files of each type there are:"
   ]
  },
  {
   "cell_type": "code",
   "execution_count": 24,
   "metadata": {},
   "outputs": [
    {
     "name": "stdout",
     "output_type": "stream",
     "text": [
      "Counter({'.pdf': 6, '.html': 4, '.ppt': 3, '.jpg': 3, '.txt': 2, '.doc': 2, '.ps': 2, '.csv': 1, '.gz': 1, '.dbase3': 1})\n"
     ]
    }
   ],
   "source": [
    "from collections import Counter\n",
    "\n",
    "extension_counts = Counter()\n",
    "\n",
    "for path in data.iterdir():\n",
    "    extension_counts[path.suffix] += 1\n",
    "    \n",
    "print(extension_counts)"
   ]
  },
  {
   "cell_type": "markdown",
   "metadata": {},
   "source": [
    "## Magic File\n",
    "\n",
    "A more accurate way of identifying the format of a file is to look for what are called *magic numbers* that are in the file. You can think of these as bits of data in the file that uniquely identify the file format--kind of like a fingerprint for the file. You can see a list of these types of signatures in [this](https://en.wikipedia.org/wiki/List_of_file_signatures) Wikipedia article.\n",
    "\n",
    "Instead of you having to look for these signatures yourself fortunately there is a Python extension called [python-magic](https://pypi.org/project/python-magic/) that will do the searching for you. The two commands below will install it into your notebook environment."
   ]
  },
  {
   "cell_type": "code",
   "execution_count": null,
   "metadata": {},
   "outputs": [],
   "source": [
    "! sudo apt-get --quiet install -q libmagic1\n",
    "! pip -q install python-magic"
   ]
  },
  {
   "cell_type": "markdown",
   "metadata": {},
   "source": [
    "With python-magic installed we can now import it and use it to identify the format of the file `inst341/710097.pdf`:"
   ]
  },
  {
   "cell_type": "code",
   "execution_count": 38,
   "metadata": {},
   "outputs": [
    {
     "data": {
      "text/plain": [
       "'PDF document, version 1.3'"
      ]
     },
     "execution_count": 38,
     "metadata": {},
     "output_type": "execute_result"
    }
   ],
   "source": [
    "import magic\n",
    "\n",
    "magic.from_file('inst341/710097.pdf')"
   ]
  },
  {
   "cell_type": "markdown",
   "metadata": {},
   "source": [
    "So now we know that the file is actually a PDF, and we even know the version number. The version is important because it may indicate that a particular version of a PDF viewing application will be needed to render it properly. Here is the version of another file:"
   ]
  },
  {
   "cell_type": "code",
   "execution_count": 32,
   "metadata": {},
   "outputs": [
    {
     "data": {
      "text/plain": [
       "'PDF document, version 1.4'"
      ]
     },
     "execution_count": 32,
     "metadata": {},
     "output_type": "execute_result"
    }
   ],
   "source": [
    "magic.from_file('inst341/356028.pdf')"
   ]
  },
  {
   "cell_type": "markdown",
   "metadata": {},
   "source": [
    "The same is true of JPEG files which usually get a file extension of `.jpg`. Here are two different JPG files which have different version numbers. We can also see that the size of the images are different. We will be taking a closer look at internal metadata in the next module. But for now just notice how python-magic helps us see how different these files are:"
   ]
  },
  {
   "cell_type": "code",
   "execution_count": 39,
   "metadata": {},
   "outputs": [
    {
     "data": {
      "text/plain": [
       "'JPEG image data, JFIF standard 1.01, aspect ratio, density 1x1, segment length 16, baseline, precision 8, 320x240, components 3'"
      ]
     },
     "execution_count": 39,
     "metadata": {},
     "output_type": "execute_result"
    }
   ],
   "source": [
    "magic.from_file('inst341/115389.jpg')"
   ]
  },
  {
   "cell_type": "code",
   "execution_count": 40,
   "metadata": {},
   "outputs": [
    {
     "data": {
      "text/plain": [
       "'JPEG image data, JFIF standard 1.02, resolution (DPI), density 72x72, segment length 16, comment: \"File written by Adobe Photoshop\\\\250 5.0\", baseline, precision 8, 180x234, components 3'"
      ]
     },
     "execution_count": 40,
     "metadata": {},
     "output_type": "execute_result"
    }
   ],
   "source": [
    "magic.from_file('inst341/278141.jpg')"
   ]
  },
  {
   "cell_type": "markdown",
   "metadata": {},
   "source": [
    "You can collect all the file formats and count them to get a sense of what types of data we have. Note that the `magic.from_file` function wants to be given a *string* so when using `pathlib` we have to call a Path objects `as_posix()` method to get the Path as a string.\n"
   ]
  },
  {
   "cell_type": "code",
   "execution_count": 51,
   "metadata": {},
   "outputs": [],
   "source": [
    "formats = []\n",
    "\n",
    "for p in data.iterdir():\n",
    "    file_format = magic.from_file(p.as_posix())\n",
    "    formats.append(file_format)"
   ]
  },
  {
   "cell_type": "markdown",
   "metadata": {},
   "source": [
    "One easy way to count things in Python is to use the [Counter](https://docs.python.org/3/library/collections.html#collections.Counter) class:"
   ]
  },
  {
   "cell_type": "code",
   "execution_count": 54,
   "metadata": {},
   "outputs": [
    {
     "name": "stdout",
     "output_type": "stream",
     "text": [
      "4 PDF document, version 1.3\n",
      "2 ASCII text\n",
      "1 HTML document, UTF-8 Unicode text, with very long lines, with CRLF, LF line terminators\n",
      "1 gzip compressed data, was \"srini_collisions96.ps\", last modified: Wed Jan 22 14:45:32 1997, from Unix, original size modulo 2^32 754717\n",
      "1 PDF document, version 1.6\n",
      "1 HTML document, ASCII text, with very long lines, with CRLF, LF line terminators\n",
      "1 Composite Document File V2 Document, Little Endian, Os: Windows, Version 5.1, Code page: 1252, Title: NACE Direct Assessment Standards, Author: LGoldberg, Template: Slit, Last Saved By: LGoldberg, Revision Number: 40, Name of Creating Application: Microsoft PowerPoint, Total Editing Time: 12:34:49, Create Time/Date: Fri Oct 24 20:01:47 2003, Last Saved Time/Date: Mon Nov  3 19:52:13 2003, Number of Words: 786\n",
      "1 JPEG image data, JFIF standard 1.01, resolution (DPI), density 72x72, segment length 16, baseline, precision 8, 181x120, components 3\n",
      "1 FoxBase+/dBase III DBF, 50 records * 224, update-date 99-7-13, at offset 193 1st record \"NAS 1.26:4783                                     TEST REPORT: DIRECT AND INDIRECT LIGHTNING EF\"\n",
      "1 Composite Document File V2 Document, Little Endian, Os: Windows, Version 4.10, Code page: 1252, Title: _, Author:  , Template: Normal, Last Saved By:  , Revision Number: 3, Name of Creating Application: Microsoft Word 8.0, Last Printed: Thu Aug 15 18:25:00 2002, Create Time/Date: Fri Aug 16 12:52:00 2002, Last Saved Time/Date: Fri Aug 16 13:14:00 2002, Number of Pages: 1, Number of Words: 219, Number of Characters: 1291, Security: 0\n",
      "1 Composite Document File V2 Document, Little Endian, Os: MacOS, Version 10.3, Code page: 10000, Title: Muon Arm Physics Program, Author: Patrick L. McGaughey, Last Saved By: Patrick McGaughey, Revision Number: 485, Name of Creating Application: Microsoft PowerPoint, Total Editing Time: 3d+07:28:43, Last Printed: Mon Apr 23 20:36:43 2007, Create Time/Date: Wed Jun 11 20:38:44 2003, Last Saved Time/Date: Wed Apr 25 02:51:40 2007, Number of Words: 1947\n",
      "1 Composite Document File V2 Document, Little Endian, Os 0, Version: 3.10, Title: Recommended  File Formats for WWW, Author: Ken Jenks, Template: c:\\powerpnt\\template\\clrovrhd\\triumphc.ppt, Last Saved By: Ken Jenks, Revision Number: 3, Create Time/Date: Wed Mar  1 17:59:34 1995, Last Saved Time/Date: Wed Mar  1 19:19:54 1995, Number of Pages: 12, Name of Creating Application: Microsoft PowerPoint 4.0\n",
      "1 PostScript document text conforming DSC level 2.0\n",
      "1 CSV text\n",
      "1 HTML document, ASCII text\n",
      "1 JPEG image data, JFIF standard 1.02, resolution (DPI), density 72x72, segment length 16, comment: \"File written by Adobe Photoshop\\250 5.0\", baseline, precision 8, 180x234, components 3\n",
      "1 PDF document, version 1.4\n",
      "1 JPEG image data, JFIF standard 1.01, aspect ratio, density 1x1, segment length 16, baseline, precision 8, 320x240, components 3\n",
      "1 Composite Document File V2 Document, Little Endian, Os: Windows, Version 5.0, Code page: 1252, Title: annual dairy '06, Author: kj, Template: GAIN No TOC, Last Saved By: FASHELP, Revision Number: 15, Name of Creating Application: Microsoft Word 9.0, Total Editing Time: 02:39:00, Last Printed: Thu Oct 26 17:24:00 2006, Create Time/Date: Thu Oct 26 13:29:00 2006, Last Saved Time/Date: Thu Oct 26 19:20:00 2006, Number of Pages: 8, Number of Words: 1834, Number of Characters: 10456, Security: 0\n",
      "1 HTML document, ASCII text, with very long lines\n",
      "1 PostScript document text conforming DSC level 3.0, Level 1\n"
     ]
    }
   ],
   "source": [
    "from collections import Counter\n",
    "\n",
    "format_counts = Counter(formats)\n",
    "\n",
    "for format, count in format_counts.most_common():\n",
    "    print(count, format)\n"
   ]
  },
  {
   "cell_type": "markdown",
   "metadata": {},
   "source": [
    "## PRONOM\n",
    "\n",
    "[PRONOM](http://www.nationalarchives.gov.uk/PRONOM/) is a registry of file formats that is maintained by the UK National Archives. One nice thing about PRONOM is that they have assigned each format a unique identifier (PUID) which can be used to look up information about the format by [searching by the PUID](http://www.nationalarchives.gov.uk/PRONOM/PUID/proPUIDSearch.aspx?status=new).\n",
    "\n",
    "The [puid](https://github.com/edsu/puid) module is a small utility that lets you look up the PUID for a file once it is installed."
   ]
  },
  {
   "cell_type": "code",
   "execution_count": 56,
   "metadata": {},
   "outputs": [],
   "source": [
    "! pip install --quiet puid"
   ]
  },
  {
   "cell_type": "code",
   "execution_count": 58,
   "metadata": {},
   "outputs": [
    {
     "data": {
      "text/plain": [
       "'fmt/44'"
      ]
     },
     "execution_count": 58,
     "metadata": {},
     "output_type": "execute_result"
    }
   ],
   "source": [
    "from puid import get_puid\n",
    "\n",
    "get_puid('inst341/278141.jpg')"
   ]
  },
  {
   "cell_type": "markdown",
   "metadata": {},
   "source": [
    "When you look up *fmt/44* in the PRONOM database you get a page that lists lots of information about the format. PRONOM also mentions when formats are deemed at risk and can help you figure out what formats to migrate to. We will be learning about migrating formats in the next module.\n",
    "\n",
    "> The JPEG File Interchange Format (JFIF) is a file format for storing JPEG-compressed raster images. It was developed by the Independent JPEG Group and C-Cube Microsystems, in the absence of any such format being defined in the JPEG standard, and rapidly became a de facto standard. A JFIF file comprises a JPEG data stream together with a JFIF marker. It begins with a Start of Image (SOI) marker, immediately followed by a JFIF Application (APP0) marker and one or more optional application extension markers. This is followed by the JPEG image data, which is terminated by an End of Image (EOI) marker. JFIF supports up to 24-bit colour and uses lossy compression (based on the Discrete Cosine Transform algorithm). Other types of compression are available through JPEG extensions, including progressive image buildup, arithmetic encoding, variable quantization, selective refinement, image tiling, and lossless compression, but these may not be supported by all JFIF readers and writers."
   ]
  },
  {
   "cell_type": "markdown",
   "metadata": {},
   "source": [
    "## Exercise\n",
    "\n",
    "\n",
    "### 1. Get Data\n",
    "\n",
    "First download your module 3 data by replacing USERNAME in the string below with your UMD username (the same one you used in the Module 2 notebook)."
   ]
  },
  {
   "cell_type": "code",
   "execution_count": null,
   "metadata": {},
   "outputs": [],
   "source": [
    "import inst341data\n",
    "\n",
    "inst341data.get_module_3('USERNAME')"
   ]
  },
  {
   "cell_type": "markdown",
   "metadata": {},
   "source": [
    "If that generated an error make sure you run the cell above that does the:\n",
    "\n",
    "    pip install --quiet inst341data\n",
    "    \n",
    "Note: you may notice that your files do not have file extensions. It's not uncommon for file extensions to go missing, use an alternate form, or be incorrect. That's why file format identification tools are useful!\n",
    "    \n",
    "### 2. Format Counts\n",
    "\n",
    "Use the **python-magic** module to determine what the most common file format in your directory. Please use the cell below for your Python code."
   ]
  },
  {
   "cell_type": "code",
   "execution_count": null,
   "metadata": {},
   "outputs": [],
   "source": []
  },
  {
   "cell_type": "markdown",
   "metadata": {},
   "source": [
    "### 3. PUID Counts\n",
    "\n",
    "Use the **puid** module to print out the PUID file format identifier counts for your files. Please use the cell below for your Python code."
   ]
  },
  {
   "cell_type": "code",
   "execution_count": null,
   "metadata": {},
   "outputs": [],
   "source": []
  },
  {
   "cell_type": "markdown",
   "metadata": {},
   "source": [
    "### 4. Compare\n",
    "\n",
    "Use the cell below to compare the **python-magic** and **puid** results. Why do you think the counts by format might be different?"
   ]
  },
  {
   "cell_type": "markdown",
   "metadata": {},
   "source": []
  },
  {
   "cell_type": "markdown",
   "metadata": {},
   "source": [
    "### 5. Look Up\n",
    "\n",
    "Look up the most commmon PUID in [PRONOM](http://www.nationalarchives.gov.uk/PRONOM/PUID/proPUIDSearch.aspx?status=new). What information do you see about it? Who developed the standard?"
   ]
  },
  {
   "cell_type": "markdown",
   "metadata": {},
   "source": []
  }
 ],
 "metadata": {
  "kernelspec": {
   "display_name": "Python 3",
   "language": "python",
   "name": "python3"
  },
  "language_info": {
   "codemirror_mode": {
    "name": "ipython",
    "version": 3
   },
   "file_extension": ".py",
   "mimetype": "text/x-python",
   "name": "python",
   "nbconvert_exporter": "python",
   "pygments_lexer": "ipython3",
   "version": "3.8.2"
  }
 },
 "nbformat": 4,
 "nbformat_minor": 4
}
