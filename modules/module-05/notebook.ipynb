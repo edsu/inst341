{
 "cells": [
  {
   "cell_type": "markdown",
   "metadata": {},
   "source": [
    "# External Metadata\n",
    "\n",
    "As we learned about in our reading of [The Numbers Don't Speak for Themselves](https://data-feminism.mitpress.mit.edu/pub/czq9dfs5/release/2) in [Data Faminism](https://data-feminism.mitpress.mit.edu/) this week, the description of data is extremely important, particularly when it comes to understanding the context which data was generated. We also learned in Owens, Chapter 6 that as a practical matter part of this context includes recording what a file looks like at a particular point in time, or its *fixity*. Knowing what files should be present, and what content they contain is a fundamental requirement when caring for data.\n",
    "\n",
    "## Fixity\n",
    "\n",
    "One popular way of managing fixity information for files is to create what's called a digital fingerprint or *hash* for a file. As Owens says:\n",
    "\n",
    "> A cryptographic hash function is an algorithm that takes a given set of data (like a file) and computes a sequence of characters that then serves as a fingerprint for that data. Even changing a single bit in a file will result in a totally different sequence of characters. For example, I computed an MD5 hash for an image file and return the value \"4937A316849E472473608D43446EBF9EF\". Now if I compute the has for another copy of that file and get the same result, I'll have rather high confidence that those two copies are exactly the same. Similarly, if I have a stored value from the last time I computed a hash for that file, when I recompute the hash in the futre and get that value again, I have a high degreee of confidence that the file has not been chnanged or altered.\n",
    "\n",
    "## Manifests\n",
    "\n",
    "It's not uncommon to store a list of files and their fixity values in a file called a *manifest*. The idea of a manifest is not unique to digital curation, and comes from an [older transportation](https://en.wikipedia.org/wiki/Manifest_(transportation). When shipping things long distances it's often important to make sure what was put on the ship didn't dissappear en route.\n",
    "\n",
    "<img src=\"images/manifest.jpg\">\n",
    "\n",
    "The same concept that is used to track things as they move through space can be applied to things as they travel in time. A manifest simply lists the things we expect to be present, and what their state should be.\n",
    "\n",
    "## Generating Fixity\n",
    "\n",
    "In this notebook we will experiment with generating fixity values, and storing them in a machine reaadable manifest. We will also check the manifest to make sure the files look ok.\n",
    "\n",
    "First lets install some data to work with."
   ]
  },
  {
   "cell_type": "code",
   "execution_count": 12,
   "metadata": {},
   "outputs": [
    {
     "name": "stdout",
     "output_type": "stream",
     "text": [
      "Requirement already up-to-date: inst341data in /home/ed/.local/share/virtualenvs/inst341-5gFq0BHA/lib/python3.8/site-packages (0.0.7)\r\n"
     ]
    },
    {
     "ename": "AttributeError",
     "evalue": "module 'inst341data' has no attribute 'get_module_5'",
     "output_type": "error",
     "traceback": [
      "\u001b[0;31m---------------------------------------------------------------------------\u001b[0m",
      "\u001b[0;31mAttributeError\u001b[0m                            Traceback (most recent call last)",
      "\u001b[0;32m<ipython-input-12-62ca8d545011>\u001b[0m in \u001b[0;36m<module>\u001b[0;34m\u001b[0m\n\u001b[1;32m      3\u001b[0m \u001b[0;31m#import inst341data\u001b[0m\u001b[0;34m\u001b[0m\u001b[0;34m\u001b[0m\u001b[0;34m\u001b[0m\u001b[0m\n\u001b[1;32m      4\u001b[0m \u001b[0;34m\u001b[0m\u001b[0m\n\u001b[0;32m----> 5\u001b[0;31m \u001b[0minst341data\u001b[0m\u001b[0;34m.\u001b[0m\u001b[0mget_module_5\u001b[0m\u001b[0;34m(\u001b[0m\u001b[0;34m'inst341'\u001b[0m\u001b[0;34m)\u001b[0m\u001b[0;34m\u001b[0m\u001b[0;34m\u001b[0m\u001b[0m\n\u001b[0m\u001b[1;32m      6\u001b[0m \u001b[0mdir\u001b[0m\u001b[0;34m(\u001b[0m\u001b[0minst341data\u001b[0m\u001b[0;34m)\u001b[0m\u001b[0;34m\u001b[0m\u001b[0;34m\u001b[0m\u001b[0m\n",
      "\u001b[0;31mAttributeError\u001b[0m: module 'inst341data' has no attribute 'get_module_5'"
     ]
    }
   ],
   "source": [
    "! pip install --upgrade inst341data\n",
    "\n",
    "#import inst341data\n",
    "\n",
    "inst341data.get_module_5('inst341')\n",
    "dir(inst341data)"
   ]
  },
  {
   "cell_type": "code",
   "execution_count": null,
   "metadata": {},
   "outputs": [],
   "source": []
  }
 ],
 "metadata": {
  "kernelspec": {
   "display_name": "Python 3",
   "language": "python",
   "name": "python3"
  },
  "language_info": {
   "codemirror_mode": {
    "name": "ipython",
    "version": 3
   },
   "file_extension": ".py",
   "mimetype": "text/x-python",
   "name": "python",
   "nbconvert_exporter": "python",
   "pygments_lexer": "ipython3",
   "version": "3.8.5"
  }
 },
 "nbformat": 4,
 "nbformat_minor": 4
}
