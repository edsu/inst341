{
 "cells": [
  {
   "cell_type": "markdown",
   "metadata": {
    "id": "rlYj_VjP1lHH"
   },
   "source": [
    "# External Metadata\n",
    "\n",
    "As we learned about in our reading of [The Numbers Don't Speak for Themselves](https://data-feminism.mitpress.mit.edu/pub/czq9dfs5/release/2) in [Data Feminism](https://data-feminism.mitpress.mit.edu/) this week, the *description* of data is extremely important. Description is often recorded separately from the data as *external metadata*. External metadata is especially important for representing the context in which data was generated.\n",
    "\n",
    "We also learned previously in Chapter 6 of [The Theory and Craft of Digital Preservation](https://jhupbooks.press.jhu.edu/title/theory-and-craft-digital-preservation) that as a practical matter, this context often includes a record of what a file looks like at a particular point in time. This is known as a file's *fixity*. Knowing what files should be present, and that their content is what we expect it to be is a fundamental requirement for caring for data. It lets us notice when things have gone wrong with our data.\n",
    "\n",
    "## Fixity\n",
    "\n",
    "One popular way of managing fixity information for files is to create what's called a digital fingerprint or *hash* for a file. As Owens says:\n",
    "\n",
    "> A cryptographic hash function is an algorithm that takes a given set of data (like a file) and computes a sequence of characters that then serves as a fingerprint for that data. Even changing a single bit in a file will result in a totally different sequence of characters. For example, I computed an MD5 hash for an image file which returned the value \"4937A316849E472473608D43446EBF9EF\". Now if I compute the has for another copy of that file and get the same result, I'll have rather high confidence that those two copies are exactly the same. Similarly, if I have a stored value from the last time I computed a hash for that file, when I recompute the hash in the futre and get that value again, I have a high degreee of confidence that the file has not been chnanged or altered.\n",
    "\n",
    "## Manifests\n",
    "\n",
    "It's not uncommon to store a list of files and their fixity values in a special file called a *manifest*. A manifest is an example of *external metadata*. The idea of a manifest is not unique to digital curation, and comes from an [older practice](https://en.wikipedia.org/wiki/Manifest_(transportation) from transportation. When shipping things long distances by boat it was (and still is) very important to make sure what was put on the boat didn't dissappear en route. Below is an example of shipping manifest for *people* who were immigrating into the United States from Turkey.\n",
    "\n",
    "<img src=\"https://raw.githubusercontent.com/edsu/inst341/master/modules/module-05/images/manifest.jpg\">\n",
    "\n",
    "The same concept that is used to track things as they move through space can be applied to things as they travel in time. A manifest simply lists the things we expect to be present, and what their state should be.\n",
    "\n",
    "In light of the D'Ignazio and Klein chapter its important to consider who the manifest is being made by, what it contains (and doesn't contain) and who it is being made for. As an analog to that question think about the shipping manifest above, and how Armenian names are westernized as they are recorded in the receipt manifest at Ellis Island. Could there be a parallel for manifests in digital preservation? \n",
    "\n",
    "## Generating Fixity\n",
    "\n",
    "In this notebook we will experiment with generating fixity values, and storing them in a machine reaadable manifest. We will also check the manifest to make sure the files look ok.\n",
    "\n",
    "First lets install some data to work with. We're going to use the inst341data package instead of Google Drive this week so that you can get data customized for you during the exercise. But first we're going to download the generic data for the class to use to illustrate some examples."
   ]
  },
  {
   "cell_type": "code",
   "execution_count": 1,
   "metadata": {
    "colab": {
     "base_uri": "https://localhost:8080/",
     "height": 52
    },
    "id": "xctDA_j01lHJ",
    "outputId": "73732aab-9fba-41ad-e90a-bf0c2526913e"
   },
   "outputs": [
    {
     "name": "stdout",
     "output_type": "stream",
     "text": [
      "  Building wheel for inst341data (setup.py) ... \u001b[?25l\u001b[?25hdone\n",
      "Downloaded inst341\n"
     ]
    }
   ],
   "source": [
    "! pip install --quiet inst341data\n",
    "\n",
    "import inst341data\n",
    "inst341data.get_module_5('inst341')"
   ]
  },
  {
   "cell_type": "markdown",
   "metadata": {
    "id": "0qPV_JM41lHU"
   },
   "source": [
    "We can create a Path object for the data in the `inst341` directory that was just created on the file system. Then we can use it to print out the files in the directory."
   ]
  },
  {
   "cell_type": "code",
   "execution_count": 2,
   "metadata": {
    "colab": {
     "base_uri": "https://localhost:8080/",
     "height": 469
    },
    "id": "NSazVtap2ljE",
    "outputId": "de96dc2b-f939-420f-eb38-dcb9c4dd2fec"
   },
   "outputs": [
    {
     "name": "stdout",
     "output_type": "stream",
     "text": [
      "inst341/591796.xml\n",
      "inst341/185621.kmz\n",
      "inst341/731818.html\n",
      "inst341/327479.html\n",
      "inst341/016351.txt\n",
      "inst341/395504.txt\n",
      "inst341/436739.txt\n",
      "inst341/303329.png\n",
      "inst341/109068.jpg\n",
      "inst341/061020.html\n",
      "inst341/250963.html\n",
      "inst341/134884.html\n",
      "inst341/826550.xml\n",
      "inst341/158095.txt\n",
      "inst341/344176.txt\n",
      "inst341/282539.html\n",
      "inst341/283668.txt\n",
      "inst341/492605.html\n",
      "inst341/170887.txt\n",
      "inst341/450254.txt\n",
      "inst341/476277.csv\n",
      "inst341/319760.txt\n",
      "inst341/484768.html\n",
      "inst341/600980.html\n",
      "inst341/manifest.json\n",
      "inst341/836391.html\n"
     ]
    }
   ],
   "source": [
    "from pathlib import Path\n",
    "\n",
    "data = Path('inst341')\n",
    "for p in data.iterdir():\n",
    "  print(p)"
   ]
  },
  {
   "cell_type": "markdown",
   "metadata": {
    "id": "V4TjQUSn2vTF"
   },
   "source": [
    "We will be looking at these more in a moment but for now notice that there are a bunch of numbered files with different extensions as well as a `manifest.json` file.\n",
    "\n",
    "In order to calculate the `fixity` value for one of these files we're going to create a little function that uses Python's [hashlib](https://docs.python.org/3/library/hashlib.html?highlight=hashlib#module-hashlib) module to make it easy to generate a [SHA256](https://en.wikipedia.org/wiki/SHA-2) checksum for a `Path` object. SHA256 is a hashing algorithm similar to the MD5 discussed above."
   ]
  },
  {
   "cell_type": "code",
   "execution_count": 24,
   "metadata": {
    "id": "S8YZTMd028Wo"
   },
   "outputs": [],
   "source": [
    "import hashlib\n",
    "\n",
    "def get_sha256(p):\n",
    "  h = hashlib.sha256()\n",
    "  data = p.open('rb').read()\n",
    "  h.update(data)\n",
    "  return h.hexdigest()  "
   ]
  },
  {
   "cell_type": "markdown",
   "metadata": {
    "id": "kbFhL3zv6U_r"
   },
   "source": [
    "Let's try using our `get_sha256` function by passing it a `Path` object for one of our files:"
   ]
  },
  {
   "cell_type": "code",
   "execution_count": 25,
   "metadata": {
    "colab": {
     "base_uri": "https://localhost:8080/",
     "height": 35
    },
    "id": "GzP5R5hW50_F",
    "outputId": "0ad3ded6-9ac2-428c-a45d-394b0f307c0a"
   },
   "outputs": [
    {
     "data": {
      "application/vnd.google.colaboratory.intrinsic+json": {
       "type": "string"
      },
      "text/plain": [
       "'aa0f647bb649edf138b984356098bd412fcaa724c61fa802c6e741fd33886fee'"
      ]
     },
     "execution_count": 25,
     "metadata": {
      "tags": []
     },
     "output_type": "execute_result"
    }
   ],
   "source": [
    "get_sha256(Path('inst341/492605.html'))"
   ]
  },
  {
   "cell_type": "markdown",
   "metadata": {
    "id": "BMOlEOb95_jC"
   },
   "source": [
    "So tha value `aa0f647bb649edf138b984356098bd412fcaa724c61fa802c6e741fd33886fee` is a unique fingerprint that identifies the contents of the file stored at `inst341/492605.html`."
   ]
  },
  {
   "cell_type": "markdown",
   "metadata": {
    "id": "MSqBRhfj6pf3"
   },
   "source": [
    "## Reading a Manifest\n",
    "\n",
    "The `inst341/manifest.json` file is a manifest for all the files and their fixities stored in the [JavaScript Object Notation (JSON)](https://en.wikipedia.org/wiki/JSON) format. You probably have used JSON in your INST126 or INST326 classes since it's one of the most common data formats on the Web.\n",
    "\n",
    "This particular JSON file contains a `list` of `objects`, or as they are called in Python, `dictionaries`. Each of these dictionaries contains two key/value pairs: `path` and `sha256`.\n",
    "\n",
    "There are many different formats for manifests that are used in the digital preservation community. However no matter the representation the concept is essentially the same: you need a file name and a fixity value.\n",
    "\n",
    "Reading in our JSON manifest is relatively easy with Python's [json](https://docs.python.org/3/library/json.html) module. We just need to open the file and pass the file object to `json.load` which will parse all the JSON data into Python native data structures (a list of dictionaries) that we can then use like any list or dictionary."
   ]
  },
  {
   "cell_type": "code",
   "execution_count": 6,
   "metadata": {
    "id": "g7WGMSvD79B0"
   },
   "outputs": [],
   "source": [
    "import json\n",
    "\n",
    "manifest = json.load(open('inst341/manifest.json'))"
   ]
  },
  {
   "cell_type": "markdown",
   "metadata": {
    "id": "TxOipmNv8C-4"
   },
   "source": [
    "Once we have read it in we can then go through each item in the manifest and see the filename and the sha256 value."
   ]
  },
  {
   "cell_type": "code",
   "execution_count": 7,
   "metadata": {
    "colab": {
     "base_uri": "https://localhost:8080/",
     "height": 451
    },
    "id": "R2qCBv5C8bwk",
    "outputId": "5ca9695f-8efd-4984-93ca-ac764c382961"
   },
   "outputs": [
    {
     "name": "stdout",
     "output_type": "stream",
     "text": [
      "inst341/484768.html aea41602cbc7f44e4c399bd88d2de54d2888c7ee7bf265842d82d3b28c964c7d\n",
      "inst341/319760.txt 067aa5090b866d1d096566f29bbebecb54eee65784e191cd4163f746675e27da\n",
      "inst341/492605.html aa0f647bb649edf138b984356098bd412fcaa724c61fa802c6e741fd33886fee\n",
      "inst341/826550.xml 0fea1e400379ea6d9c098ec4c6e92b94a1dd630b34b5073cbc903c6df2525a71\n",
      "inst341/134884.html 5941e809a59fe455fed36a356dfa1814b584c8ca1bec3c205dc71b0d8adc2bbd\n",
      "inst341/170887.txt d91972e1a035460c97d39f5ec6aeab16a6bdd0f69201f3a7524d67a5581745d1\n",
      "inst341/836391.html ebc1c7d9112dc304442b1ccba8bd40646fc837d3f86d6875efdc296b75cfed91\n",
      "inst341/250963.html a6cfa3970c12fe65dfb9f1d43df8585d4fd0206688f7c9c3514bf7993bc4228d\n",
      "inst341/436739.txt 589881e15694ad6b46c9a07e085d805e4eda1c200526a13f5d6844d091766483\n",
      "inst341/016351.txt 0076f44ae20cefd13b75ee2b839f6bc67ccb0ac42487b826da250dbf84cb4791\n",
      "inst341/282539.html 9ef2cb9e8df9ea12cf9042cda75b7160c0bf085df2133fcef8ca80d06f25fde7\n",
      "inst341/327479.html 8f125e336cb4b1b2239805f5751199f747a276f15688e83ec9788654ee67cc9b\n",
      "inst341/600980.html 94ff3baef572238f60d81eae0b36e65df458b5a3a2dfc5ea711c4fb52bc6e57d\n",
      "inst341/061020.html 59f33bdda840dda40ecde8e02523999760d36cbbfddcbdcda45e2dd8079a0904\n",
      "inst341/591796.xml 54e3a4937aa568e94b3c868fda631d60ec6780508379bd6168f0919b354e8445\n",
      "inst341/303329.png 729a46ff35578aafa8d2f2254c2fed97b3526b92779e8cf6541767646ed186c0\n",
      "inst341/450254.txt e77fd4ae155c882237ca4ec620728f6e8765ee8643171232e660b41a22729c51\n",
      "inst341/185621.kmz 5053fe3b50aa774687d9b1c89f5b9cd5600171cc8dfff5d631b75143ea4cfbf4\n",
      "inst341/344176.txt c43293b54aedad357e4693acc2c49f14a97d67372cc18d3d06d307c7c4920324\n",
      "inst341/158095.txt a0050de0e923dee91488f8b2fc9fa2b2355f40234aaf069b11085dcf483d6eb6\n",
      "inst341/476277.csv 977fbb0129dd11ca2d9e3a54670b3027a2a40d3c7a25b00c31d873c6838125cd\n",
      "inst341/283668.txt 0c85951887eb34f74b2e72ebca32a7fd94507fac3619b73867ff93450355e097\n",
      "inst341/731818.html 969fbbcb6fb156c32509deb8328511218fa17c9452dfb34c67a4e55ac20587c2\n",
      "inst341/395504.txt 286e2bf0b03f15ad0e5b987143858bcc3f10a2d085fa44d792f55b41e28f822b\n",
      "inst341/109068.jpg f6752a9c50539f9fa28127beee2b97ca46dc3d7bee808e4e7c56362a6855fa4f\n"
     ]
    }
   ],
   "source": [
    "for entry in manifest:\n",
    "  print(entry['path'], entry['sha256'])"
   ]
  },
  {
   "cell_type": "markdown",
   "metadata": {
    "id": "beO__Jrs8gvm"
   },
   "source": [
    "Remember, these are the files and sha256 values *in the manifest*. Hopefully they match the files we see on the file system. But you won't know until the manifest is *validated*.\n",
    "\n",
    "## Validate the Manifest\n",
    "\n",
    "Now lets put all the pieces together to read in our manifest (data/manifest.json) and verify that each path's sha256 values matches what is found on the file system. We do this by calculating the sha256 by giving the `get_sha256` function a Path for a file, and comparing the result with what the manifest says it should be."
   ]
  },
  {
   "cell_type": "code",
   "execution_count": 26,
   "metadata": {
    "colab": {
     "base_uri": "https://localhost:8080/",
     "height": 451
    },
    "id": "QlSckJD-Zy-t",
    "outputId": "c4b8f840-83ad-448d-d975-0ed7ebc721c3"
   },
   "outputs": [
    {
     "name": "stdout",
     "output_type": "stream",
     "text": [
      "inst341/484768.html is ok\n",
      "inst341/319760.txt is ok\n",
      "inst341/492605.html is ok\n",
      "inst341/826550.xml is ok\n",
      "inst341/134884.html is ok\n",
      "inst341/170887.txt is ok\n",
      "inst341/836391.html is ok\n",
      "inst341/250963.html is ok\n",
      "inst341/436739.txt is ok\n",
      "inst341/016351.txt is ok\n",
      "inst341/282539.html is ok\n",
      "inst341/327479.html is ok\n",
      "inst341/600980.html is ok\n",
      "inst341/061020.html is ok\n",
      "inst341/591796.xml is ok\n",
      "inst341/303329.png is ok\n",
      "inst341/450254.txt is ok\n",
      "inst341/185621.kmz is ok\n",
      "inst341/344176.txt is ok\n",
      "inst341/158095.txt is ok\n",
      "inst341/476277.csv is ok\n",
      "inst341/283668.txt is ok\n",
      "inst341/731818.html is ok\n",
      "inst341/395504.txt is ok\n",
      "inst341/109068.jpg is ok\n"
     ]
    }
   ],
   "source": [
    "import json\n",
    "import pathlib\n",
    "\n",
    "manifest = json.load(open('inst341/manifest.json'))\n",
    "\n",
    "for entry in manifest:\n",
    "  p = pathlib.Path(entry['path'])\n",
    "  sha256 = get_sha256(p)\n",
    "\n",
    "  if sha256 == entry['sha256']:\n",
    "    print(p, 'is ok')\n",
    "  else:\n",
    "    print(p, 'is invalid: found', sha256, 'but expected', entry['sha256'])"
   ]
  },
  {
   "cell_type": "markdown",
   "metadata": {
    "id": "hu2_XoEFawGY"
   },
   "source": [
    "Whew, the manifest looks valid! All the files in the manifest have a sha256 value that matches what we find when we recalculate it using the file on the filesystem. That means our data is what we expect it to be!\n",
    "\n",
    "## Exercise\n",
    "\n",
    "### 1. Get Data\n",
    "\n",
    "First download your module 5 data by replacing USERNAME in the string below with your UMD username (the same one you used in the Module 3 and 2 notebooks)."
   ]
  },
  {
   "cell_type": "code",
   "execution_count": null,
   "metadata": {
    "id": "g8jTiYV1fYjo"
   },
   "outputs": [],
   "source": [
    "import inst341data\n",
    "\n",
    "inst341data.get_module_5('USERNAME')"
   ]
  },
  {
   "cell_type": "markdown",
   "metadata": {
    "id": "OP_SlAx-fi7M"
   },
   "source": [
    "If that generated an error make sure you run the cell above that does the:\n",
    "\n",
    "    pip install --quiet inst341data\n",
    "\n",
    "### 2. Read in Your Manifest\n",
    "\n",
    "Read in your manifest that will be in your username directory that was just created. For example if my username is `edsu` my manifest would be found at `edsu/manifest.json`. Print out each item in the manifest, it's path and sha256 value."
   ]
  },
  {
   "cell_type": "code",
   "execution_count": null,
   "metadata": {
    "id": "aXPNsBBghDiq"
   },
   "outputs": [],
   "source": []
  },
  {
   "cell_type": "markdown",
   "metadata": {
    "id": "ZyhPJUsOhEce"
   },
   "source": [
    "### 3. Validate Your Manifest\n",
    "\n",
    "Use the example above to validate your manifest. Remember you want to validate *your* files not the ones in the `inst341` directory. Are there any files that failed validation?"
   ]
  },
  {
   "cell_type": "code",
   "execution_count": null,
   "metadata": {
    "id": "aUV8ZLl5nOIl"
   },
   "outputs": [],
   "source": []
  },
  {
   "cell_type": "markdown",
   "metadata": {
    "id": "C2H6zKBDfnbS"
   },
   "source": [
    "### 4. **Optional:** Create a Validation Function\n",
    "\n",
    "If you'd like a challenge see if you can create a function called `validate` that is given the path to a manifest and will return True or False depending on whether the manifest is valid or not.\n"
   ]
  },
  {
   "cell_type": "markdown",
   "metadata": {
    "id": "Prk-XbTUgSDj"
   },
   "source": [
    "### 5. **Really Optional:** Efficiency\n",
    "\n",
    "Do you see any problem with the `get_sha256` function above? How could it be improved?"
   ]
  },
  {
   "cell_type": "code",
   "execution_count": null,
   "metadata": {
    "id": "81WdaRhepMTq"
   },
   "outputs": [],
   "source": []
  }
 ],
 "metadata": {
  "colab": {
   "collapsed_sections": [],
   "name": "notebook.ipynb",
   "provenance": []
  },
  "kernelspec": {
   "display_name": "Python 3",
   "language": "python",
   "name": "python3"
  },
  "language_info": {
   "codemirror_mode": {
    "name": "ipython",
    "version": 3
   },
   "file_extension": ".py",
   "mimetype": "text/x-python",
   "name": "python",
   "nbconvert_exporter": "python",
   "pygments_lexer": "ipython3",
   "version": "3.8.5"
  }
 },
 "nbformat": 4,
 "nbformat_minor": 1
}
