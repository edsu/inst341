{
 "cells": [
  {
   "cell_type": "markdown",
   "metadata": {},
   "source": [
    "# Platforms\n",
    "\n",
    "In [The Politics of Platforms](https://journals.sagepub.com/doi/abs/10.1177/1461444809342738) Gillespie traces the history of the term \"platform\" and why it is being used by the technology industry today. In 2006 Google acquired YouTube for $1.65 billion. Gillespie argues that Google describes YouTube as a \"platform\" because it allows them to simultaneously speak to an audience of content creators and an audience of advertisers, which in turn allows the service to generate revenue, which was estimated in 2020 to be [\\$15 billion/year](https://www.theverge.com/2020/2/3/21121207/youtube-google-alphabet-earnings-revenue-first-time-reveal-q4-2019). Calling itself a \"platform\" also allows Google to provide tools (such as [ContentID](https://en.wikipedia.org/wiki/Content_ID_(system)) for the policing of content, to side step regulation by the government, and thus to become a regulator of the web itself.\n",
    "\n",
    "> Whatever possible tension there is between being a \"platform\" for empowering individual users and being a robust marketing ‘platform’ and being a ‘platform’ for major studio content is elided in the versatility of the term and the powerful appeal of the idea behind it. And the term is a valuable and persuasive token in legal environments, positing their service in a familiar metaphoric framework as merely the neutral provision of content, a vehicle for art rather than its producer or patron, where liability should fall to the users themselves. (p. 358)\n",
    "\n",
    "Gillespie also points out that YouTube have a key role in \"curating\" content on the web. In this notebook we will look at the YouTube API and what it tells us about the sociotechnical politics of video curation on the web.\n",
    "\n",
    "## The YouTube API\n",
    "\n",
    "The [YouTube API](https://developers.google.com/youtube/v3/docs/) allows you to interact with the YouTube platform programatically. This API, or [Application Program Interface](https://en.wikipedia.org/wiki/API), is what allows people to create software services and applications that interact with YouTube. For example an Apple or Android smartphone app to upload a video from your phone to YouTube, add add or edit informatoin about it (title, description, etc). From previous modules we know that the video is a file which has metadata associated with it.\n",
    "\n",
    "The [documentation](https://developers.google.com/youtube/v3/docs/) for the YouTube API describes a set of *resources* that you can work with, such as *Videos*, *Channels*, *Comments*, *Playlists*, *Members* and more. We are going to look specifically at the *Videos* resource and use it to retrieve information about this historic video created by CNN which was published to YouTube.\n",
    "\n",
    "    https://www.youtube.com/watch?v=dH6EW7iSoLA\n",
    "\n",
    "As a convenience I've embedded the video below using Jupyter's ability to add inline HTML, in this case the embed code that YouTube make available for their videos."
   ]
  },
  {
   "cell_type": "code",
   "execution_count": 82,
   "metadata": {},
   "outputs": [
    {
     "data": {
      "text/html": [
       "<iframe width=\"560\" height=\"315\" src=\"https://www.youtube.com/embed/dH6EW7iSoLA\" frameborder=\"0\" allow=\"accelerometer; autoplay; clipboard-write; encrypted-media; gyroscope; picture-in-picture\" allowfullscreen></iframe>\n"
      ],
      "text/plain": [
       "<IPython.core.display.HTML object>"
      ]
     },
     "execution_count": 82,
     "metadata": {},
     "output_type": "execute_result"
    }
   ],
   "source": [
    "from IPython.display import HTML\n",
    "\n",
    "HTML('''<iframe width=\"560\" height=\"315\" src=\"https://www.youtube.com/embed/dH6EW7iSoLA\" frameborder=\"0\" allow=\"accelerometer; autoplay; clipboard-write; encrypted-media; gyroscope; picture-in-picture\" allowfullscreen></iframe>\n",
    "''')"
   ]
  },
  {
   "cell_type": "markdown",
   "metadata": {},
   "source": [
    "### API Keys\n",
    "\n",
    "To talk to the YouTube API, and many other APIs, you first need to get an *API Key*. An API Key is a unique string that identifies you, the user of the API. Anyone with a Google account can get a key to talk to Google's APIs, including the YouTube API. The key is used to give you special permissions to manage your own content, and prevent other people from changing it without your permission. It is also used to limit the number of interactions you can perform with the API in a certain period of time (quotas).\n",
    "\n",
    "I have given you a temporary API key in the ELMS assignment which you will need to add here. If you prefer you can [follow the instructions](https://console.developers.google.com/apis/library/youtube.googleapis.com) to get your own key.\n",
    "\n",
    "When evaluating the ways that platforms shape the curation of data it is critically important to think about the role that *API keys* play in determining what is possible and what is not possible."
   ]
  },
  {
   "cell_type": "code",
   "execution_count": 85,
   "metadata": {},
   "outputs": [],
   "source": [
    "# Important: add the key from Canvas here between the quotes!\n",
    "\n",
    "key = \"\""
   ]
  },
  {
   "cell_type": "markdown",
   "metadata": {},
   "source": [
    "### Videos\n",
    "\n",
    "The [Videos](https://developers.google.com/youtube/v3/docs/videos) API Resource lets you add videos and retrieve information about them. You can see the various **methods** or operations that they allow you to perform on videos:\n",
    "\n",
    "* **getRating:** Retrieves the ratings that the authorized user gave to a list of specified videos.\n",
    "* **list:** Returns a list of videos that match the API request parameters.\n",
    "* **insert:** Uploads a video to YouTube and optionally sets the video's metadata. \n",
    "* **update:** Updates a video's metadata.\n",
    "* **delete:** Deletes a YouTube video.\n",
    "* **rate:** Add a like or dislike rating to a video or remove a rating from a video.\n",
    "* **reportAbuse:** Report a video for containing abusive content.\n",
    "\n",
    "We are just going to look at one method [list](https://developers.google.com/youtube/v3/docs/videos/list) which is used to retrieve information about a video or set of videos.\n",
    "\n",
    "### List Method\n",
    "\n",
    "The **list** method itself has a set of *parameters* that allow you to control how the method is used. You can see these described in the [parameters section of the documentation](https://developers.google.com/youtube/v3/docs/videos/list#parameters).\n",
    "\n",
    "Web APIs like the YouTube API are basically just instructions for how to construct URLs for data, usually [JSON] data. URLs are the addresses you see when you browse the web in your browser. Once you have a URL for some data you can use the HTTP protocol, the protocol your web browser uses to navigate the web, to *GET* the data.\n",
    "\n",
    "So for example if we wanted to list the information for our video which has an ID of `dH6EW7iSoLA` we could use the **list** documentation to formulate the following URL:\n",
    "\n",
    "    https://www.googleapis.com/youtube/v3/videos?id=dH6EW7iSoLA&part=contentDetails,statistics,snippet&key=key\n",
    "    \n",
    "I've chose to use the *id* parameter to identify the video, and the *part* parameter to select three parts of metadata that I'm interested in, and also passed it my key (which I've stubbed out).\n",
    "\n",
    "Fortunately Python's [requests](https://requests.readthedocs.io/en/master/) module makes it pretty easy to construct these URLs and to use the HTTP protocol to fetch the data associated with them. First lets install it:"
   ]
  },
  {
   "cell_type": "code",
   "execution_count": 55,
   "metadata": {},
   "outputs": [],
   "source": [
    "! pip3 --quiet install requests"
   ]
  },
  {
   "cell_type": "markdown",
   "metadata": {},
   "source": [
    "Now we can use it to fetch the data. Notice how a Python dictionary is used to express the API parameters, and then the base URL and the parameters are passed to the `requests.get()` function."
   ]
  },
  {
   "cell_type": "code",
   "execution_count": 88,
   "metadata": {},
   "outputs": [
    {
     "data": {
      "text/plain": [
       "{'kind': 'youtube#videoListResponse',\n",
       " 'etag': 'tkukhXwf6YS-rPbaV7XmncoCXJU',\n",
       " 'items': [{'kind': 'youtube#video',\n",
       "   'etag': 'rsj08Q7Mid9KWRbhhYFJ8q3lcXk',\n",
       "   'id': 'dH6EW7iSoLA',\n",
       "   'snippet': {'publishedAt': '2020-11-08T08:17:31Z',\n",
       "    'channelId': 'UCQJiKgCuBwtje8BgzX0-9NQ',\n",
       "    'title': \"Hear Kamala Harris' tribute to her mother\",\n",
       "    'description': \"Vice President-elect Kamala Harris pays tribute to her mother and the women who made her path possible during a victory speech in Wilmington, Delaware. Source: https://goo-gl.su/rhIN85\\n\\nSubscribe to CNN News! https://goo-gl.su/SsHTo3D3\\nFollow CNN News on Facebook: https://www.facebook.com/cnn\\nFollow CNN News on Twitter: https://twitter.com/cnnbrk\\n\\nRepublican Sen. Rick Scott breaks with President Donald Trump: https://goo-gl.su/CvQ5 \\nPolitics on TikTok is anything but boring':https://goo-gl.su/5g98mSaZ\\nVoting underway in swing state of Pennsylvania: https://goo-gl.su/7qTcKw7\\nCNN Projection: Biden wins Michigan: https://goo-gl.su/XLrqV\\nDana Bash reports on Trump's mood as Biden eyes 270: https://youtu.be/mxZEnXT7RKY\\nCNN Projection: President Trump can win Arizona: https://youtu.be/u0lBB5932S4\\n\\n\\n#kamalaharris #politics #news #joebiden #dnc #donaldtrump #democraticnationalconvention #nbc #usnews #trump #currentevents #nbcnews #worldnews #biden #decision2020 #deskvideo #breakingnews #2020election #democraticconvention #funny #democraticnationalconvention2020 #2020 #michelleobama #nowthismedia #nowthisnews #nowthis #hillaryclinton #currenteventstoday #demconvention #dncconvention #nightlynews #barackobama #nationalconvention2020 #2020conventions #dnc2020convention #dnc2020 #humor #2020dnc #hollywood #celebrities #covid19 #supremecourt #interview #coronavirus #funnyvideo #snl #presidentialdebate #topstories #debate #obama #latenight #talkshow #popculture #lesterholt #scotus #vicepresident #jokes #rulesofengagement #speech #blacklivesmatter #jillbiden #california #preisdentialelection #happeningnow #cnn #latestnews #unitedstates #actor #jimmycarter #president #music #entertainment #saturdaynightlive #biden2020 #elections #kerrywashington #ajc #tonight #hunterbiden #vote #rbg #ruthbaderginsburg #monologue #halsey #democratic2020convention #2020dncconvention #womensrights #election #presidenttrump #2020elections #democraticprimary #presidentialelection #cspan #billclinton #michelleobamaspeech #aoc #berniesanders #beaubiden #live #amyconeybarrett #military #television #nbctv #lolaconsuelos #uspolitics #newyork #harris #alexandriaocasiocortez #highlight #celebrity #whitehouse #show #clip #comedy #talent #video #backstage #elvis #dollypartoninterview #dollypartononmeyers #iwillalwaysloveyou #sing #countrymusic #country #9to5 #jolene #helloi’mdolly #didn’tlet #dollyparton #mayaandmarty #winecountry #bridesmaids #awaywego #forever #netflix #sethmeyers #thegoodplace #bigmouth #mayarudolph #johnkasich #betsydevossexualharassment #secretaryofeducation #kellyripa #bestydevossexualassualt #betsydevos #steve #harvey #radio #markconsuelos #kellyripadaughter #etonline #trending #et #entertainmenttonight #markconsuelosandkellyripa #markconsuelosdaughter #lolaandkelly #humanrights\",\n",
       "    'thumbnails': {'default': {'url': 'https://i.ytimg.com/vi/dH6EW7iSoLA/default.jpg',\n",
       "      'width': 120,\n",
       "      'height': 90},\n",
       "     'medium': {'url': 'https://i.ytimg.com/vi/dH6EW7iSoLA/mqdefault.jpg',\n",
       "      'width': 320,\n",
       "      'height': 180},\n",
       "     'high': {'url': 'https://i.ytimg.com/vi/dH6EW7iSoLA/hqdefault.jpg',\n",
       "      'width': 480,\n",
       "      'height': 360},\n",
       "     'standard': {'url': 'https://i.ytimg.com/vi/dH6EW7iSoLA/sddefault.jpg',\n",
       "      'width': 640,\n",
       "      'height': 480}},\n",
       "    'channelTitle': 'CNN NEWS',\n",
       "    'tags': ['kamala harris',\n",
       "     'politics',\n",
       "     'news',\n",
       "     'joe biden',\n",
       "     'dnc',\n",
       "     'donald trump',\n",
       "     'democratic national convention',\n",
       "     'nbc',\n",
       "     'us news',\n",
       "     'trump',\n",
       "     'current events',\n",
       "     'nbc news',\n",
       "     'world news',\n",
       "     'biden',\n",
       "     'decision 2020',\n",
       "     'desk video',\n",
       "     'breaking news',\n",
       "     '2020 election',\n",
       "     'democratic convention',\n",
       "     'funny',\n",
       "     'democratic national convention 2020',\n",
       "     'senator kamala harris',\n",
       "     'presidential election',\n",
       "     'cbs news live stream',\n",
       "     'white house',\n",
       "     '2020 us election',\n",
       "     '2020 election results',\n",
       "     'biden wins',\n",
       "     'joe biden wins',\n",
       "     'georgia results',\n",
       "     'nevada results',\n",
       "     'trump statement'],\n",
       "    'categoryId': '25',\n",
       "    'liveBroadcastContent': 'none',\n",
       "    'localized': {'title': \"Hear Kamala Harris' tribute to her mother\",\n",
       "     'description': \"Vice President-elect Kamala Harris pays tribute to her mother and the women who made her path possible during a victory speech in Wilmington, Delaware. Source: https://goo-gl.su/rhIN85\\n\\nSubscribe to CNN News! https://goo-gl.su/SsHTo3D3\\nFollow CNN News on Facebook: https://www.facebook.com/cnn\\nFollow CNN News on Twitter: https://twitter.com/cnnbrk\\n\\nRepublican Sen. Rick Scott breaks with President Donald Trump: https://goo-gl.su/CvQ5 \\nPolitics on TikTok is anything but boring':https://goo-gl.su/5g98mSaZ\\nVoting underway in swing state of Pennsylvania: https://goo-gl.su/7qTcKw7\\nCNN Projection: Biden wins Michigan: https://goo-gl.su/XLrqV\\nDana Bash reports on Trump's mood as Biden eyes 270: https://youtu.be/mxZEnXT7RKY\\nCNN Projection: President Trump can win Arizona: https://youtu.be/u0lBB5932S4\\n\\n\\n#kamalaharris #politics #news #joebiden #dnc #donaldtrump #democraticnationalconvention #nbc #usnews #trump #currentevents #nbcnews #worldnews #biden #decision2020 #deskvideo #breakingnews #2020election #democraticconvention #funny #democraticnationalconvention2020 #2020 #michelleobama #nowthismedia #nowthisnews #nowthis #hillaryclinton #currenteventstoday #demconvention #dncconvention #nightlynews #barackobama #nationalconvention2020 #2020conventions #dnc2020convention #dnc2020 #humor #2020dnc #hollywood #celebrities #covid19 #supremecourt #interview #coronavirus #funnyvideo #snl #presidentialdebate #topstories #debate #obama #latenight #talkshow #popculture #lesterholt #scotus #vicepresident #jokes #rulesofengagement #speech #blacklivesmatter #jillbiden #california #preisdentialelection #happeningnow #cnn #latestnews #unitedstates #actor #jimmycarter #president #music #entertainment #saturdaynightlive #biden2020 #elections #kerrywashington #ajc #tonight #hunterbiden #vote #rbg #ruthbaderginsburg #monologue #halsey #democratic2020convention #2020dncconvention #womensrights #election #presidenttrump #2020elections #democraticprimary #presidentialelection #cspan #billclinton #michelleobamaspeech #aoc #berniesanders #beaubiden #live #amyconeybarrett #military #television #nbctv #lolaconsuelos #uspolitics #newyork #harris #alexandriaocasiocortez #highlight #celebrity #whitehouse #show #clip #comedy #talent #video #backstage #elvis #dollypartoninterview #dollypartononmeyers #iwillalwaysloveyou #sing #countrymusic #country #9to5 #jolene #helloi’mdolly #didn’tlet #dollyparton #mayaandmarty #winecountry #bridesmaids #awaywego #forever #netflix #sethmeyers #thegoodplace #bigmouth #mayarudolph #johnkasich #betsydevossexualharassment #secretaryofeducation #kellyripa #bestydevossexualassualt #betsydevos #steve #harvey #radio #markconsuelos #kellyripadaughter #etonline #trending #et #entertainmenttonight #markconsuelosandkellyripa #markconsuelosdaughter #lolaandkelly #humanrights\"},\n",
       "    'defaultAudioLanguage': 'en'},\n",
       "   'contentDetails': {'duration': 'PT3M29S',\n",
       "    'dimension': '2d',\n",
       "    'definition': 'sd',\n",
       "    'caption': 'true',\n",
       "    'licensedContent': False,\n",
       "    'contentRating': {},\n",
       "    'projection': 'rectangular'},\n",
       "   'statistics': {'viewCount': '109',\n",
       "    'likeCount': '1',\n",
       "    'dislikeCount': '0',\n",
       "    'favoriteCount': '0',\n",
       "    'commentCount': '1'}}],\n",
       " 'pageInfo': {'totalResults': 1, 'resultsPerPage': 1}}"
      ]
     },
     "execution_count": 88,
     "metadata": {},
     "output_type": "execute_result"
    }
   ],
   "source": [
    "import requests\n",
    "\n",
    "params = {\n",
    "    \"id\": \"dH6EW7iSoLA\",\n",
    "    \"part\": \"contentDetails,statistics,snippet\",\n",
    "    \"key\": key,\n",
    "}\n",
    "\n",
    "resp = requests.get('https://www.googleapis.com/youtube/v3/videos', params=params)\n",
    "resp.json()"
   ]
  },
  {
   "cell_type": "markdown",
   "metadata": {},
   "source": [
    "You can see a variety of information comes back, like the *title* and the *description* as well as *tags* that it was assigned and various sizes of images. But notice what is missing? Where is the video content itself?\n",
    "\n",
    "YouTube's API lets you upload video and add metadata to it, but it doesn't let you download the video! To do that we need to turn to other tools."
   ]
  },
  {
   "cell_type": "markdown",
   "metadata": {},
   "source": [
    "## youtube-dl\n",
    "\n",
    "There are other approaches to fetching data from web platforms than using their officially documented APIs. Since many web platforms like YouTube are \"on the web\" and viewable in web browsers, it's possible to automate the extraction of data directly from the web pages themselves. This is commonly known as [web scraping](https://en.wikipedia.org/wiki/Web_scraping). It sounds kind of messy, and it is, but it's also widely practiced, by none other than big companies like Google when they crawl and index the web for their search product, or by Facebook when they create a snippet of information about a URL you just pasted into a new post.\n",
    "\n",
    "A platform's Terms of Service often does not permit scraping of their web pages. So it is good to be careful when doing it, and to pay particular attention to what you do with the collected data. For example you wouldn't want to crawl a website as a logged in user, and then publish that potentially sensitive material out on the public web again as [some researchers](https://www.wired.com/2016/05/okcupid-study-reveals-perils-big-data-science/) did with the dating site OKCupid. It is often a gray area as to what does and does not constitute a violation of a sites Terms of Service. Recently in [Sandvig v Barr](https://www.eff.org/deeplinks/2020/04/federal-judge-rules-it-not-crime-violate-websites-terms-service) a group of researchers won a lawsuit that made it not necessarily a crime to breach Terms of Service.\n",
    "\n",
    "Many tools get developed to make it easier to extract content from the web. For exmaple the [youtube-dl](https://yt-dl.org/) utility, which is written in Python, is open source software that allows you to download videos and their metadata from YouTube and [over a thousand](https://yt-dl.org/supportedsites.html) other video service providers on the web. Recently the Recording Industry Association of America (RIAA) issued a takedown request to GitHub where the youtube-dl software was being developed. The RIAA requested that GitHub remove youtube-dl from its platform, and GitHub complied. However some like the Electronic Frontier Foundation (EFF) [point out](https://www.eff.org/deeplinks/2020/11/riaa-abuses-dmca-take-down-popular-tool-downloading-online-video) that the tool itself was not violating copyright, and can be used in a lawful way.\n",
    "\n",
    "If you upload a video to YouTube, and aren't able to download it, shouldn't you be able to use a tool like youtube-dl to allow you to have a copy of your video? If the video is licensed to allow copying, as with a Creative Commons License, or is in the public domain, isn't a tool like youtube-dl appropriate? \n",
    "\n",
    "Lets install youtube-dl and use it to download the video for the video above. First we need to install youtube-dl:"
   ]
  },
  {
   "cell_type": "code",
   "execution_count": null,
   "metadata": {},
   "outputs": [],
   "source": [
    "!pip3 install --quiet youtube-dl "
   ]
  },
  {
   "cell_type": "markdown",
   "metadata": {},
   "source": [
    "### Download\n",
    "\n",
    "Now we can download the video for: https://www.youtube.com/watch?v=dH6EW7iSoLA by creating a `YoutubeDL` object and using its `download()` method to download our YouTube URL. Notice we pass in a list, since download() can download multiple videos."
   ]
  },
  {
   "cell_type": "code",
   "execution_count": 96,
   "metadata": {},
   "outputs": [
    {
     "name": "stdout",
     "output_type": "stream",
     "text": [
      "[youtube] dH6EW7iSoLA: Downloading webpage\n",
      "[youtube] dH6EW7iSoLA: Downloading MPD manifest\n",
      "[dashsegments] Total fragments: 40\n",
      "[download] Destination: Hear Kamala Harris' tribute to her mother-dH6EW7iSoLA.f134.mp4\n",
      "[download] 100% of 8.84MiB in 00:04.23MiB/s ETA 00:000:02\n",
      "[dashsegments] Total fragments: 22\n",
      "[download] Destination: Hear Kamala Harris' tribute to her mother-dH6EW7iSoLA.f140.m4a\n",
      "[download] 100% of 3.22MiB in 00:02.47MiB/s ETA 00:000:01\n",
      "[ffmpeg] Merging formats into \"Hear Kamala Harris' tribute to her mother-dH6EW7iSoLA.mp4\"\n",
      "Deleting original file Hear Kamala Harris' tribute to her mother-dH6EW7iSoLA.f134.mp4 (pass -k to keep)\n",
      "Deleting original file Hear Kamala Harris' tribute to her mother-dH6EW7iSoLA.f140.m4a (pass -k to keep)\n"
     ]
    }
   ],
   "source": [
    "import youtube_dl\n",
    "\n",
    "ydl = youtube_dl.YoutubeDL()\n",
    "result = ydl.download([\"https://www.youtube.com/watch?v=dH6EW7iSoLA\"])"
   ]
  },
  {
   "cell_type": "markdown",
   "metadata": {},
   "source": [
    "Notice how youtube-dl prints out a log of what it's doing. It first downloads the video as an mp4 file. Then it downloads the audio as an m4a file, and then it merges the video and audio into a single mp4 file named: \n",
    "\n",
    "    Hear Kamala Harris' tribute to her mother-dH6EW7iSoLA.mp4\n",
    "    \n",
    "If you click on the file explorer on the left in Colab you can see the file. We can also use Python to examine the file, and see what the size is in bytes using techniques we learned back in Module 2."
   ]
  },
  {
   "cell_type": "code",
   "execution_count": 106,
   "metadata": {},
   "outputs": [
    {
     "name": "stdout",
     "output_type": "stream",
     "text": [
      "12715964\n"
     ]
    }
   ],
   "source": [
    "import pathlib \n",
    "\n",
    "p = pathlib.Path(\"Hear Kamala Harris' tribute to her mother-dH6EW7iSoLA.mp4\")\n",
    "video_size = p.stat().st_size\n",
    "print(video_size)"
   ]
  },
  {
   "cell_type": "markdown",
   "metadata": {},
   "source": [
    "With a bit of math we can print out the size in megabytes too, or if you are lazy you can use [hurry.filesize](https://pypi.org/project/hurry.filesize/):"
   ]
  },
  {
   "cell_type": "code",
   "execution_count": 109,
   "metadata": {},
   "outputs": [],
   "source": [
    "! pip install --quiet hurry.filesize"
   ]
  },
  {
   "cell_type": "code",
   "execution_count": 110,
   "metadata": {},
   "outputs": [
    {
     "data": {
      "text/plain": [
       "'12M'"
      ]
     },
     "execution_count": 110,
     "metadata": {},
     "output_type": "execute_result"
    }
   ],
   "source": [
    "from hurry.filesize import size\n",
    "\n",
    "size(video_size)"
   ]
  },
  {
   "cell_type": "markdown",
   "metadata": {},
   "source": [
    "## Exercises\n",
    "\n",
    "1. Find a video on [YouTube](https://youtube.com) and use the requests code above in the *List Method* section to get and print the JSON metadata for it from the YouTube API. **Note:** you will need to know the *id* for the video you find. The id is the unique string that is contained in the video URL's `v` parameter. For example the YouTube video `https://www.youtube.com/watch?v=dH6EW7iSoLA` has an id of `dH6EW7iSoLA`."
   ]
  },
  {
   "cell_type": "code",
   "execution_count": null,
   "metadata": {},
   "outputs": [],
   "source": []
  },
  {
   "cell_type": "markdown",
   "metadata": {},
   "source": [
    "2. Download the same video you found using youtube-dl as shown above. What format is the downloaded video file? What is the size of the file in bytes?"
   ]
  },
  {
   "cell_type": "code",
   "execution_count": null,
   "metadata": {},
   "outputs": [],
   "source": []
  },
  {
   "cell_type": "markdown",
   "metadata": {},
   "source": [
    "3. What reasons do you think Google has for not allowing the download of video through the YouTube API?"
   ]
  },
  {
   "cell_type": "markdown",
   "metadata": {},
   "source": []
  },
  {
   "cell_type": "markdown",
   "metadata": {},
   "source": [
    "4. **Optional:** The CNN video on YouTube that we have been working with was also published directly on the CNN site at https://www.cnn.com/videos/politics/2020/11/08/kamala-harris-victory-speech-mom-women-postelex-vpx.cnn See if you can use youtube-dl to download it, using the technique above. If you can download the video file how does it compare to the one we downloaded from YouTube?"
   ]
  },
  {
   "cell_type": "code",
   "execution_count": null,
   "metadata": {},
   "outputs": [],
   "source": []
  }
 ],
 "metadata": {
  "kernelspec": {
   "display_name": "Python 3",
   "language": "python",
   "name": "python3"
  },
  "language_info": {
   "codemirror_mode": {
    "name": "ipython",
    "version": 3
   },
   "file_extension": ".py",
   "mimetype": "text/x-python",
   "name": "python",
   "nbconvert_exporter": "python",
   "pygments_lexer": "ipython3",
   "version": "3.8.5"
  }
 },
 "nbformat": 4,
 "nbformat_minor": 4
}
